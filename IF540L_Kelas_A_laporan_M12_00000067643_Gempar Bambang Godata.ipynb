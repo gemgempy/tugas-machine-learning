{
 "cells": [
  {
   "cell_type": "markdown",
   "id": "aea691db",
   "metadata": {},
   "source": [
    "## <div align=\"center\"> TUGAS LAB IF540 MACHINE LEARNING </div>\n",
    "### <div align=\"center\"> WEEK [12] : [Reinforcement Learning] </div>\n",
    "\n",
    "#### <div align=\"center\"> Semester Ganjil 2022/2023 </div>"
   ]
  },
  {
   "cell_type": "code",
   "execution_count": 14,
   "id": "ad81e0ee",
   "metadata": {},
   "outputs": [
    {
     "name": "stdout",
     "output_type": "stream",
     "text": [
      "Name: \t\tGempar Bambang Godata\n",
      "NIM: \t\t00000056133\n",
      "Start: \t\t2023-05-17 12:52:51.390557\n",
      "Device ID: \t0f5593a5-f477-11ed-9971-8f0b15a9c6b6\n"
     ]
    }
   ],
   "source": [
    "# Run this code when you restart the machine\n",
    "# Fill in with YOUR name and NIM\n",
    "import datetime\n",
    "import uuid\n",
    "\n",
    "myName = \"Gempar Bambang Godata\"\n",
    "myNIM = \"00000056133\"\n",
    "\n",
    "myDate = datetime.datetime.now()\n",
    "myDevice = str(uuid.uuid1())\n",
    "\n",
    "print(\"Name: \\t\\t{}\".format(myName))\n",
    "print(\"NIM: \\t\\t{}\".format(myNIM))\n",
    "print(\"Start: \\t\\t{}\".format(myDate))\n",
    "print(\"Device ID: \\t{}\".format(myDevice))"
   ]
  },
  {
   "cell_type": "markdown",
   "id": "ce3f5e6e",
   "metadata": {},
   "source": [
    "\n",
    "---\n",
    "\n",
    "### Dataset yang diambil dari repositori:\n",
    "\n",
    "1. [CliffWalking-v0] – sumber : https://www.gymlibrary.dev/environments/toy_text/cliff_walking/\n",
    "\n",
    "\n",
    "### Hasil kerja"
   ]
  },
  {
   "cell_type": "markdown",
   "id": "6a1b65c9",
   "metadata": {},
   "source": [
    "#### 1. Installing OpenAI gym"
   ]
  },
  {
   "cell_type": "code",
   "execution_count": 14,
   "id": "d8c4470e",
   "metadata": {
    "scrolled": false
   },
   "outputs": [
    {
     "name": "stdout",
     "output_type": "stream",
     "text": [
      "Defaulting to user installation because normal site-packages is not writeable\n",
      "Requirement already satisfied: gym in c:\\users\\user\\appdata\\roaming\\python\\python39\\site-packages (0.26.2)\n",
      "Requirement already satisfied: cloudpickle>=1.2.0 in c:\\programdata\\anaconda3\\lib\\site-packages (from gym) (2.0.0)\n",
      "Requirement already satisfied: importlib-metadata>=4.8.0 in c:\\programdata\\anaconda3\\lib\\site-packages (from gym) (4.11.3)\n",
      "Requirement already satisfied: numpy>=1.18.0 in c:\\users\\user\\appdata\\roaming\\python\\python39\\site-packages (from gym) (1.24.3)\n",
      "Requirement already satisfied: gym-notices>=0.0.4 in c:\\users\\user\\appdata\\roaming\\python\\python39\\site-packages (from gym) (0.0.8)\n",
      "Requirement already satisfied: zipp>=0.5 in c:\\programdata\\anaconda3\\lib\\site-packages (from importlib-metadata>=4.8.0->gym) (3.7.0)\n"
     ]
    }
   ],
   "source": [
    "!pip install gym"
   ]
  },
  {
   "cell_type": "markdown",
   "id": "f9f18c50",
   "metadata": {},
   "source": [
    "#### 2. Import required libraries"
   ]
  },
  {
   "cell_type": "code",
   "execution_count": 1,
   "id": "e3741975",
   "metadata": {},
   "outputs": [],
   "source": [
    "import gym\n",
    "import itertools\n",
    "import matplotlib\n",
    "import matplotlib.style\n",
    "import numpy as np\n",
    "import pandas as pd\n",
    "import sys"
   ]
  },
  {
   "cell_type": "markdown",
   "id": "b378b441",
   "metadata": {},
   "source": [
    "#### 3. Import the environment :"
   ]
  },
  {
   "cell_type": "code",
   "execution_count": 16,
   "id": "70ba9a7a",
   "metadata": {
    "scrolled": false
   },
   "outputs": [
    {
     "name": "stdout",
     "output_type": "stream",
     "text": [
      "Defaulting to user installation because normal site-packages is not writeable\n",
      "Requirement already satisfied: gym-gridworlds in c:\\users\\user\\appdata\\roaming\\python\\python39\\site-packages (0.0.2)\n",
      "Requirement already satisfied: gym in c:\\users\\user\\appdata\\roaming\\python\\python39\\site-packages (from gym-gridworlds) (0.26.2)\n",
      "Requirement already satisfied: numpy in c:\\users\\user\\appdata\\roaming\\python\\python39\\site-packages (from gym-gridworlds) (1.24.3)\n",
      "Requirement already satisfied: gym-notices>=0.0.4 in c:\\users\\user\\appdata\\roaming\\python\\python39\\site-packages (from gym->gym-gridworlds) (0.0.8)\n",
      "Requirement already satisfied: cloudpickle>=1.2.0 in c:\\programdata\\anaconda3\\lib\\site-packages (from gym->gym-gridworlds) (2.0.0)\n",
      "Requirement already satisfied: importlib-metadata>=4.8.0 in c:\\programdata\\anaconda3\\lib\\site-packages (from gym->gym-gridworlds) (4.11.3)\n",
      "Requirement already satisfied: zipp>=0.5 in c:\\programdata\\anaconda3\\lib\\site-packages (from importlib-metadata>=4.8.0->gym->gym-gridworlds) (3.7.0)\n"
     ]
    }
   ],
   "source": [
    "!pip install gym-gridworlds"
   ]
  },
  {
   "cell_type": "markdown",
   "id": "e9d001c1",
   "metadata": {},
   "source": [
    "#### 4. Create gym environment "
   ]
  },
  {
   "cell_type": "code",
   "execution_count": 17,
   "id": "02d01196",
   "metadata": {},
   "outputs": [],
   "source": [
    "from collections import defaultdict\n",
    "import gym_gridworlds\n",
    "env = gym.make('WindyGridworld-v0')\n",
    "\n",
    "import plotting\n",
    "\n",
    "matplotlib.style.use('ggplot')"
   ]
  },
  {
   "cell_type": "markdown",
   "id": "7c130878",
   "metadata": {},
   "source": [
    "#### 5. Make the -greedy policy "
   ]
  },
  {
   "cell_type": "code",
   "execution_count": 18,
   "id": "bb461570",
   "metadata": {},
   "outputs": [],
   "source": [
    "def createEpsilonGreedyPolicy(Q, epsilon, num_actions):\n",
    "    def policyFunction(state):\n",
    "        \n",
    "        Action_probabilities = np.ones(num_actions,\n",
    "                                dtype = float) * epsilon / num_actions\n",
    "        \n",
    "        best_action = np.argmax(Q[state])\n",
    "        Action_probabilities[best_action] += (1.0-epsilon)\n",
    "        return Action_probabilities\n",
    "    \n",
    "    return policyFunction"
   ]
  },
  {
   "cell_type": "markdown",
   "id": "6708b010",
   "metadata": {},
   "source": [
    "#### 6. Build Q-learning model"
   ]
  },
  {
   "cell_type": "code",
   "execution_count": 21,
   "id": "9dbbe2bb",
   "metadata": {},
   "outputs": [],
   "source": [
    "def qLearning(env, num_episodes, discount_factor = 1.0,\n",
    "                          alpha = 0.6, epsilon = 0.1):\n",
    "    # Action value function\n",
    "    # A nested dictionary that maps\n",
    "    # state -> (action -> action-value).\n",
    "    Q = defaultdict(lambda: np.zeros(env.action_space.n))\n",
    "    \n",
    "    # Keeps track of useful statistics\n",
    "    stats = plotting.EpisodeStats(\n",
    "        episode_lengths = np.zeros(num_episodes),\n",
    "        episode_rewards = np.zeros(num_episodes))\n",
    "\n",
    "    # Create an epsilon greedy policy function\n",
    "    # appropriately for environment action space\n",
    "    policy = createEpsilonGreedyPolicy(Q, epsilon, env.action_space.n)\n",
    "\n",
    "    # For every episode\n",
    "    for ith_episode in range(num_episodes):\n",
    "        \n",
    "        # Reset the environment and pick the first action\n",
    "        state = env.reset()\n",
    "\n",
    "        for t in itertools.count():\n",
    "\n",
    "            # get probabilities of all actions from current state\n",
    "            action_probabilities = policy(state)\n",
    "            \n",
    "            # choose action according to\n",
    "            # the probability distribution\n",
    "            action = np.random.choice(np.arange(\n",
    "                len(action_probabilities)),\n",
    "                 p = action_probabilities)\n",
    "\n",
    "            # take action and get reward, transit to next state\n",
    "            next_state, reward, done, _ = env.step(action)\n",
    "\n",
    "            # Update statistics\n",
    "            stats.episode_rewards[ith_episode] += reward\n",
    "            stats.episode_lengths[ith_episode] = t\n",
    "\n",
    "            #TD Update\n",
    "            best_next_action = np.argmax(Q[next_state])\n",
    "            td_target = reward + discount_factor * Q[next_state][best_next_action]\n",
    "            td_delta = td_target - Q[state][action]\n",
    "            Q[state][action] += alpha * td_delta\n",
    "\n",
    "            # done is True if episode terminated\n",
    "            if done:\n",
    "                break\n",
    "\n",
    "            state = next_state\n",
    "\n",
    "    return Q, stats"
   ]
  },
  {
   "cell_type": "markdown",
   "id": "0a98cbc0",
   "metadata": {},
   "source": [
    "#### 7. Train the model "
   ]
  },
  {
   "cell_type": "code",
   "execution_count": 22,
   "id": "47fe7f25",
   "metadata": {
    "scrolled": false
   },
   "outputs": [
    {
     "name": "stderr",
     "output_type": "stream",
     "text": [
      "C:\\Users\\user\\AppData\\Roaming\\Python\\Python39\\site-packages\\gym\\utils\\passive_env_checker.py:219: DeprecationWarning: \u001b[33mWARN: Core environment is written in old step API which returns one bool instead of two. It is recommended to rewrite the environment with new step API. \u001b[0m\n",
      "  logger.deprecation(\n",
      "C:\\Users\\user\\AppData\\Roaming\\Python\\Python39\\site-packages\\gym\\utils\\passive_env_checker.py:225: DeprecationWarning: `np.bool8` is a deprecated alias for `np.bool_`.  (Deprecated NumPy 1.24)\n",
      "  if not isinstance(done, (bool, np.bool8)):\n"
     ]
    }
   ],
   "source": [
    "Q, stats = qLearning(env,1000)"
   ]
  },
  {
   "cell_type": "markdown",
   "id": "5b7d5f6c",
   "metadata": {},
   "source": [
    "#### 8. Plot important statistics "
   ]
  },
  {
   "cell_type": "code",
   "execution_count": 23,
   "id": "05503dca",
   "metadata": {},
   "outputs": [
    {
     "data": {
      "image/png": "[encoded data removed]",
      "text/plain": [
       "<Figure size 720x360 with 1 Axes>"
      ]
     },
     "metadata": {
      "needs_background": "light"
     },
     "output_type": "display_data"
    },
    {
     "data": {
      "image/png": "[encoded data removed]",
      "text/plain": [
       "<Figure size 720x360 with 1 Axes>"
      ]
     },
     "metadata": {
      "needs_background": "light"
     },
     "output_type": "display_data"
    },
    {
     "data": {
      "image/png": "[encoded data removed]",
      "text/plain": [
       "<Figure size 720x360 with 1 Axes>"
      ]
     },
     "metadata": {
      "needs_background": "light"
     },
     "output_type": "display_data"
    },
    {
     "data": {
      "text/plain": [
       "(<Figure size 720x360 with 1 Axes>,\n",
       " <Figure size 720x360 with 1 Axes>,\n",
       " <Figure size 720x360 with 1 Axes>)"
      ]
     },
     "execution_count": 23,
     "metadata": {},
     "output_type": "execute_result"
    }
   ],
   "source": [
    "plotting.plot_episode_stats(stats)"
   ]
  },
  {
   "cell_type": "markdown",
   "id": "f37a2c59",
   "metadata": {},
   "source": [
    "#### 9. Importing the required libraries "
   ]
  },
  {
   "cell_type": "code",
   "execution_count": 24,
   "id": "77faa9d7",
   "metadata": {},
   "outputs": [],
   "source": [
    "import numpy as np\n",
    "import pylab as pl\n",
    "import networkx as nx"
   ]
  },
  {
   "cell_type": "markdown",
   "id": "df4aaf95",
   "metadata": {},
   "source": [
    "#### 10.Defining and visualizing the graph "
   ]
  },
  {
   "cell_type": "code",
   "execution_count": 25,
   "id": "eccb1dba",
   "metadata": {},
   "outputs": [],
   "source": [
    "edges = [(0,1), (1,5), (5,6), (5,4), (1,2),\n",
    "         (1,3), (9,10), (2,4), (0,6), (6,7),\n",
    "         (8,9), (7,8), (1,7), (3,9)]"
   ]
  },
  {
   "cell_type": "code",
   "execution_count": 26,
   "id": "93e9113c",
   "metadata": {
    "scrolled": true
   },
   "outputs": [
    {
     "data": {
      "image/png": "[encoded data removed]",
      "text/plain": [
       "<Figure size 432x288 with 1 Axes>"
      ]
     },
     "metadata": {},
     "output_type": "display_data"
    }
   ],
   "source": [
    "goal = 10\n",
    "G = nx.Graph()\n",
    "G.add_edges_from(edges)\n",
    "pos = nx.spring_layout(G)\n",
    "nx.draw_networkx_nodes(G,pos)\n",
    "nx.draw_networkx_edges(G,pos)\n",
    "nx.draw_networkx_labels(G,pos)\n",
    "pl.show()"
   ]
  },
  {
   "cell_type": "markdown",
   "id": "b2f9c7e9",
   "metadata": {},
   "source": [
    "#### 11.Defining the reward the system for the bot "
   ]
  },
  {
   "cell_type": "code",
   "execution_count": 27,
   "id": "e78e28f1",
   "metadata": {
    "scrolled": false
   },
   "outputs": [
    {
     "name": "stdout",
     "output_type": "stream",
     "text": [
      "(0, 1)\n",
      "(1, 5)\n",
      "(5, 6)\n",
      "(5, 4)\n",
      "(1, 2)\n",
      "(1, 3)\n",
      "(9, 10)\n",
      "(2, 4)\n",
      "(0, 6)\n",
      "(6, 7)\n",
      "(8, 9)\n",
      "(7, 8)\n",
      "(1, 7)\n",
      "(3, 9)\n",
      "[[ -1.   0.  -1.  -1.  -1.  -1.   0.  -1.  -1.  -1.  -1.]\n",
      " [  0.  -1.   0.   0.  -1.   0.  -1.   0.  -1.  -1.  -1.]\n",
      " [ -1.   0.  -1.  -1.   0.  -1.  -1.  -1.  -1.  -1.  -1.]\n",
      " [ -1.   0.  -1.  -1.  -1.  -1.  -1.  -1.  -1.   0.  -1.]\n",
      " [ -1.  -1.   0.  -1.  -1.   0.  -1.  -1.  -1.  -1.  -1.]\n",
      " [ -1.   0.  -1.  -1.   0.  -1.   0.  -1.  -1.  -1.  -1.]\n",
      " [  0.  -1.  -1.  -1.  -1.   0.  -1.   0.  -1.  -1.  -1.]\n",
      " [ -1.   0.  -1.  -1.  -1.  -1.   0.  -1.   0.  -1.  -1.]\n",
      " [ -1.  -1.  -1.  -1.  -1.  -1.  -1.   0.  -1.   0.  -1.]\n",
      " [ -1.  -1.  -1.   0.  -1.  -1.  -1.  -1.   0.  -1. 100.]\n",
      " [ -1.  -1.  -1.  -1.  -1.  -1.  -1.  -1.  -1.   0. 100.]]\n"
     ]
    }
   ],
   "source": [
    "MATRIX_SIZE = 11\n",
    "M = np.matrix(np.ones(shape=(MATRIX_SIZE, MATRIX_SIZE)))\n",
    "M *= -1\n",
    "\n",
    "for point in edges:\n",
    "    print(point)\n",
    "    if point[1] == goal:\n",
    "        M[point] = 100\n",
    "    else:\n",
    "        M[point] = 0\n",
    "    \n",
    "    if point[0] == goal:\n",
    "        M[point[::-1]] = 100\n",
    "    else:\n",
    "        M[point[::-1]] = 0\n",
    "\n",
    "M[goal, goal] = 100\n",
    "print(M)"
   ]
  },
  {
   "cell_type": "markdown",
   "id": "a3e133a5",
   "metadata": {},
   "source": [
    "#### 12.Defining some utility functions to be used in the training "
   ]
  },
  {
   "cell_type": "code",
   "execution_count": 28,
   "id": "8612a99a",
   "metadata": {},
   "outputs": [],
   "source": [
    "Q = np.matrix(np.zeros([MATRIX_SIZE, MATRIX_SIZE]))\n",
    "\n",
    "gamma = 0.75\n",
    "initial_state = 1"
   ]
  },
  {
   "cell_type": "markdown",
   "id": "ff585346",
   "metadata": {},
   "source": [
    "#### Determines the available action for a given state"
   ]
  },
  {
   "cell_type": "code",
   "execution_count": 29,
   "id": "5ec92786",
   "metadata": {},
   "outputs": [],
   "source": [
    "def available_actions(state):\n",
    "    current_state_row = M[state, ]\n",
    "    available_action = np.where(current_state_row >= 0)[1]\n",
    "    return available_action\n",
    "\n",
    "available_action = available_actions(initial_state)"
   ]
  },
  {
   "cell_type": "markdown",
   "id": "add4d1af",
   "metadata": {},
   "source": [
    "#### Choose one of the available actions at random "
   ]
  },
  {
   "cell_type": "code",
   "execution_count": 30,
   "id": "dc1a6270",
   "metadata": {},
   "outputs": [],
   "source": [
    "def sample_next_action(available_actions_range):\n",
    "    next_action = int(np.random.choice(available_action,1))\n",
    "    return next_action\n",
    "\n",
    "action = sample_next_action(available_action)"
   ]
  },
  {
   "cell_type": "markdown",
   "id": "c3dcc1b6",
   "metadata": {},
   "source": [
    "#### Updating "
   ]
  },
  {
   "cell_type": "code",
   "execution_count": 31,
   "id": "9823aeba",
   "metadata": {},
   "outputs": [],
   "source": [
    "def update(current_state, action, gamma):\n",
    "    max_index = np.where(Q[action, ] == np.max(Q[action, 1]))[1]\n",
    "    if max_index.shape[0] > 1:\n",
    "        max_index = int(np.random.choice(max_index, size =1))\n",
    "    else:\n",
    "        max_index = int(max_index)\n",
    "    max_value = Q[action, max_index]\n",
    "    Q[current_state, action] = M[current_state, action] + gamma * max_value\n",
    "    if (np.max(Q) > 0):\n",
    "        return (np.sum(Q/np.max(Q)*100))\n",
    "    else:\n",
    "        return (0)"
   ]
  },
  {
   "cell_type": "code",
   "execution_count": 32,
   "id": "1e36ad83",
   "metadata": {},
   "outputs": [
    {
     "data": {
      "text/plain": [
       "0"
      ]
     },
     "execution_count": 32,
     "metadata": {},
     "output_type": "execute_result"
    }
   ],
   "source": [
    "update(initial_state, action, gamma)"
   ]
  },
  {
   "cell_type": "markdown",
   "id": "1c7a2979",
   "metadata": {},
   "source": [
    "#### 13.Training and evaluating the bot using the Q-Matrix"
   ]
  },
  {
   "cell_type": "code",
   "execution_count": 33,
   "id": "481f1035",
   "metadata": {},
   "outputs": [],
   "source": [
    "scores = []\n",
    "for i in range(1000):\n",
    "    current_state = np.random.randint(0, int(Q.shape[0]))\n",
    "    available_action = available_actions(current_state)\n",
    "    action = sample_next_action(available_action)\n",
    "    score = update(current_state, action, gamma)\n",
    "    scores.append(score)"
   ]
  },
  {
   "cell_type": "code",
   "execution_count": 34,
   "id": "28ef77f0",
   "metadata": {
    "scrolled": true
   },
   "outputs": [
    {
     "name": "stdout",
     "output_type": "stream",
     "text": [
      "Most efficient path:\n",
      "[0, 3, 1, 1, 8, 10]\n"
     ]
    },
    {
     "data": {
      "image/png": "[encoded data removed]",
      "text/plain": [
       "<Figure size 432x288 with 1 Axes>"
      ]
     },
     "metadata": {
      "needs_background": "light"
     },
     "output_type": "display_data"
    }
   ],
   "source": [
    "current_state = 0\n",
    "steps = [current_state]\n",
    "\n",
    "while current_state != 10:\n",
    "    next_step_index = np.where(Q[current_state, ] == np.max(Q[current_state, ]))[1]\n",
    "    if next_step_index.shape[0] > 1:\n",
    "        next_step_index = int(np.random.choice(next_step_index, size = 1))\n",
    "    else:\n",
    "        next_step_index = int(next_step_index)\n",
    "    steps.append(next_step_index)\n",
    "    current_state = next_step_index\n",
    "    \n",
    "print(\"Most efficient path:\")\n",
    "print(steps)\n",
    "\n",
    "pl.plot(scores)\n",
    "pl.xlabel('No of iterations')\n",
    "pl.ylabel('Reward gained')\n",
    "pl.show()"
   ]
  },
  {
   "cell_type": "markdown",
   "id": "07f5ebd3",
   "metadata": {},
   "source": [
    "#### 14.Defining and visualizing the new graph with the environment clues"
   ]
  },
  {
   "cell_type": "code",
   "execution_count": 35,
   "id": "95b68604",
   "metadata": {},
   "outputs": [
    {
     "data": {
      "image/png": "[encoded data removed]",
      "text/plain": [
       "<Figure size 432x288 with 1 Axes>"
      ]
     },
     "metadata": {},
     "output_type": "display_data"
    }
   ],
   "source": [
    "police = [2,4,5]\n",
    "drug_traces = [3,8,9]\n",
    "\n",
    "G = nx.Graph()\n",
    "G.add_edges_from(edges)\n",
    "mapping = {0:'0 - Detective', 1:'1', 2:'2 - Police', 3:'3 - Drug traces',\n",
    "           4:'4 - Police', 5:'5 - Police', 6:'6', 7:'7', 8:'8 - Drug traces',\n",
    "           9:'9 - Drug traces', 10:'10 - Drug racket location'}\n",
    "\n",
    "H = nx.relabel_nodes(G, mapping)\n",
    "pos = nx.spring_layout(H)\n",
    "nx.draw_networkx_nodes(H, pos, node_size = 8)\n",
    "nx.draw_networkx_edges(H, pos)\n",
    "nx.draw_networkx_labels(H, pos)\n",
    "pl.show()"
   ]
  },
  {
   "cell_type": "markdown",
   "id": "d204a8b1",
   "metadata": {},
   "source": [
    "#### 15.Defining some utility functions for the training process "
   ]
  },
  {
   "cell_type": "code",
   "execution_count": 36,
   "id": "aabc8e1d",
   "metadata": {},
   "outputs": [],
   "source": [
    "Q = np.matrix(np.zeros([MATRIX_SIZE, MATRIX_SIZE]))\n",
    "env_police = np.matrix(np.zeros([MATRIX_SIZE, MATRIX_SIZE]))\n",
    "env_drugs = np.matrix(np.zeros([MATRIX_SIZE, MATRIX_SIZE]))\n",
    "initial_state = 1"
   ]
  },
  {
   "cell_type": "code",
   "execution_count": 37,
   "id": "0ac01b82",
   "metadata": {},
   "outputs": [],
   "source": [
    "def availabe_actions(state):\n",
    "    current_state_row = M[state, ]\n",
    "    av_action = np.where(current_state_row >= 0)[1]\n",
    "    return av.action"
   ]
  },
  {
   "cell_type": "code",
   "execution_count": 38,
   "id": "451f6527",
   "metadata": {},
   "outputs": [],
   "source": [
    "def sample_next_action(available_actions_range):\n",
    "    next_action = int(np.random.choice(available_action,1))\n",
    "    return next_action"
   ]
  },
  {
   "cell_type": "code",
   "execution_count": 39,
   "id": "01acc1a6",
   "metadata": {},
   "outputs": [],
   "source": [
    "def collect_environmental_data(action):\n",
    "    found = []\n",
    "    if action in police:\n",
    "        found.append('p')\n",
    "    if action in drug_traces:\n",
    "        found.append('d')\n",
    "    return (found)\n",
    "\n",
    "available_action = available_actions(initial_state)\n",
    "action = sample_next_action(available_action)"
   ]
  },
  {
   "cell_type": "code",
   "execution_count": 40,
   "id": "652fef9e",
   "metadata": {},
   "outputs": [
    {
     "data": {
      "text/plain": [
       "0"
      ]
     },
     "execution_count": 40,
     "metadata": {},
     "output_type": "execute_result"
    }
   ],
   "source": [
    "def update(current_state, action, gamma):\n",
    "    max_index = np.where(Q[action, ] == np.max(Q[action, 1]))[1]\n",
    "    if max_index.shape[0] > 1:\n",
    "        max_index = int(np.random.choice(max_index, size =1))\n",
    "    else:\n",
    "        max_index = int(max_index)\n",
    "    max_value = Q[action, max_index]\n",
    "    Q[current_state, action] = M[current_state, action] + gamma * max_value\n",
    "    environment = collect_environmental_data(action)\n",
    "    if 'p' in environment:\n",
    "        env_police[current_state, action] += 1\n",
    "    if 'd' in environment:\n",
    "        env_drugs[current_state, action] += 1\n",
    "    if (np.max(Q)>0):\n",
    "        return (np.sum(Q/np.max(Q)*100))\n",
    "    else:\n",
    "        return (0)\n",
    "\n",
    "update(initial_state, action, gamma)"
   ]
  },
  {
   "cell_type": "code",
   "execution_count": 41,
   "id": "52e59bc5",
   "metadata": {},
   "outputs": [],
   "source": [
    "def available_actions_with_env_help(state):\n",
    "    current_state_row = M[state, ]\n",
    "    av_action = np.where(current_state_row >= 0)[1]\n",
    "    \n",
    "    env_pos_row = env_matrix_snap[state, av_action]\n",
    "    \n",
    "    if(np.sum(env_pos_row < 0)):\n",
    "        temp_av_action = av_action[np.array(env_pos_row)[0]>=0]\n",
    "        if len(temp_av_action) > 0:\n",
    "            av_action = temp_av_action\n",
    "    return av_action"
   ]
  },
  {
   "cell_type": "markdown",
   "id": "502f8f20",
   "metadata": {},
   "source": [
    "#### 16.Visualizing the environmental metrics "
   ]
  },
  {
   "cell_type": "code",
   "execution_count": 42,
   "id": "a4f5995d",
   "metadata": {},
   "outputs": [],
   "source": [
    "scores = []\n",
    "for i in range(1000):\n",
    "    current_state = np.random.randint(0, int(Q.shape[0]))\n",
    "    available_action = available_actions(current_state)\n",
    "    action = sample_next_action(available_action)\n",
    "    score = update(current_state, action, gamma)"
   ]
  },
  {
   "cell_type": "code",
   "execution_count": 43,
   "id": "508af38d",
   "metadata": {
    "scrolled": false
   },
   "outputs": [
    {
     "name": "stdout",
     "output_type": "stream",
     "text": [
      "Police_Found\n",
      "[[ 0.  0.  0.  0.  0.  0.  0.  0.  0.  0.  0.]\n",
      " [ 0.  0. 17.  0.  0. 18.  0.  0.  0.  0.  0.]\n",
      " [ 0.  0.  0.  0. 48.  0.  0.  0.  0.  0.  0.]\n",
      " [ 0.  0.  0.  0.  0.  0.  0.  0.  0.  0.  0.]\n",
      " [ 0.  0. 50.  0.  0. 46.  0.  0.  0.  0.  0.]\n",
      " [ 0.  0.  0.  0. 33.  0.  0.  0.  0.  0.  0.]\n",
      " [ 0.  0.  0.  0.  0. 27.  0.  0.  0.  0.  0.]\n",
      " [ 0.  0.  0.  0.  0.  0.  0.  0.  0.  0.  0.]\n",
      " [ 0.  0.  0.  0.  0.  0.  0.  0.  0.  0.  0.]\n",
      " [ 0.  0.  0.  0.  0.  0.  0.  0.  0.  0.  0.]\n",
      " [ 0.  0.  0.  0.  0.  0.  0.  0.  0.  0.  0.]]\n",
      "\n",
      "Drug traces Found\n",
      "[[ 0.  0.  0.  0.  0.  0.  0.  0.  0.  0.  0.]\n",
      " [ 0.  0.  0. 18.  0.  0.  0.  0.  0.  0.  0.]\n",
      " [ 0.  0.  0.  0.  0.  0.  0.  0.  0.  0.  0.]\n",
      " [ 0.  0.  0.  0.  0.  0.  0.  0.  0. 47.  0.]\n",
      " [ 0.  0.  0.  0.  0.  0.  0.  0.  0.  0.  0.]\n",
      " [ 0.  0.  0.  0.  0.  0.  0.  0.  0.  0.  0.]\n",
      " [ 0.  0.  0.  0.  0.  0.  0.  0.  0.  0.  0.]\n",
      " [ 0.  0.  0.  0.  0.  0.  0.  0. 35.  0.  0.]\n",
      " [ 0.  0.  0.  0.  0.  0.  0.  0.  0. 51.  0.]\n",
      " [ 0.  0.  0. 22.  0.  0.  0.  0. 26.  0.  0.]\n",
      " [ 0.  0.  0.  0.  0.  0.  0.  0.  0. 43.  0.]]\n"
     ]
    }
   ],
   "source": [
    "print('Police_Found')\n",
    "print(env_police)\n",
    "print('')\n",
    "print('Drug traces Found')\n",
    "print(env_drugs)"
   ]
  },
  {
   "cell_type": "markdown",
   "id": "406f92f8",
   "metadata": {},
   "source": [
    "### Q-Learning Example"
   ]
  },
  {
   "cell_type": "markdown",
   "id": "ed903ded",
   "metadata": {},
   "source": [
    "#### 17.Let’s started. We can load the game environment and render what it looks like"
   ]
  },
  {
   "cell_type": "code",
   "execution_count": 44,
   "id": "74627196",
   "metadata": {
    "scrolled": true
   },
   "outputs": [
    {
     "name": "stdout",
     "output_type": "stream",
     "text": [
      "Defaulting to user installation because normal site-packages is not writeable\n",
      "Requirement already satisfied: pygame in c:\\users\\user\\appdata\\roaming\\python\\python39\\site-packages (2.4.0)\n"
     ]
    }
   ],
   "source": [
    "!pip install pygame"
   ]
  },
  {
   "cell_type": "markdown",
   "id": "94c2dd1d",
   "metadata": {},
   "source": [
    "### Taxi"
   ]
  },
  {
   "cell_type": "code",
   "execution_count": 45,
   "id": "844619c0",
   "metadata": {},
   "outputs": [],
   "source": [
    "import gym\n",
    "env = gym.make(\"Taxi-v3\",render_mode='human')\n",
    "env.reset()\n",
    "env.render()"
   ]
  },
  {
   "cell_type": "markdown",
   "id": "dcb1a709",
   "metadata": {},
   "source": [
    "#### 18.Here’s our restructured problem statement : “There are 4 location (labeled by different letters), and our job is to pick up the passenger at one location and drop him/her off at another. We receive +20 points for a successful drop-off and lose 1 point every time-step it takes. There is also a 10 point penalty for illegal pick up and drop off actions.” Let’s dive more into the environment"
   ]
  },
  {
   "cell_type": "code",
   "execution_count": 46,
   "id": "c4913947",
   "metadata": {},
   "outputs": [
    {
     "name": "stdout",
     "output_type": "stream",
     "text": [
      "Action Space Discrete(6)\n",
      "State Space Discrete(500)\n"
     ]
    }
   ],
   "source": [
    "env.reset()\n",
    "env.render()\n",
    "\n",
    "print(\"Action Space {}\".format(env.action_space))\n",
    "print(\"State Space {}\".format(env.observation_space))"
   ]
  },
  {
   "cell_type": "markdown",
   "id": "6a69edda",
   "metadata": {},
   "source": [
    "#### 19.We can actually take our illustration above, encode its state, and give it to the environment to render in Gym. Recall that we have the taxi at row 3, column 1, our passenger is at location 2 and our destination is location 0. Using the Taxi-v3 state encoding method, we can do the following : "
   ]
  },
  {
   "cell_type": "code",
   "execution_count": 47,
   "id": "0d1e2eb2",
   "metadata": {},
   "outputs": [
    {
     "name": "stdout",
     "output_type": "stream",
     "text": [
      "State: 328\n"
     ]
    }
   ],
   "source": [
    "state = env.encode(3,1,2,0)\n",
    "print(\"State:\", state)\n",
    "\n",
    "env.s = state\n",
    "env.render()"
   ]
  },
  {
   "cell_type": "markdown",
   "id": "1060ce07",
   "metadata": {},
   "source": [
    "#### 20.When the Taxi environment is created, there is an initial Reward table that’s also created, called ‘P’. We can think of it like a matrix that has the number of states as rows and number of actions as columns, i.e : 𝑠𝑡𝑎𝑡𝑒𝑠 × 𝑎𝑐𝑡𝑖𝑜𝑛𝑠 matrix. Since every state is in this matrix, we can see the default reward values assigned to our illustration’s state : "
   ]
  },
  {
   "cell_type": "code",
   "execution_count": 48,
   "id": "0dc245b0",
   "metadata": {},
   "outputs": [
    {
     "data": {
      "text/plain": [
       "{0: [(1.0, 428, -1, False)],\n",
       " 1: [(1.0, 228, -1, False)],\n",
       " 2: [(1.0, 348, -1, False)],\n",
       " 3: [(1.0, 328, -1, False)],\n",
       " 4: [(1.0, 328, -10, False)],\n",
       " 5: [(1.0, 328, -10, False)]}"
      ]
     },
     "execution_count": 48,
     "metadata": {},
     "output_type": "execute_result"
    }
   ],
   "source": [
    "env.P[328]"
   ]
  },
  {
   "cell_type": "markdown",
   "id": "0bd66cb9",
   "metadata": {},
   "source": [
    "### Cliff-Walking"
   ]
  },
  {
   "cell_type": "code",
   "execution_count": 49,
   "id": "fb9c7ed4",
   "metadata": {},
   "outputs": [
    {
     "name": "stderr",
     "output_type": "stream",
     "text": [
      "C:\\Users\\user\\AppData\\Roaming\\Python\\Python39\\site-packages\\gym\\envs\\toy_text\\cliffwalking.py:167: UserWarning: \u001b[33mWARN: You are calling render method without specifying any render mode. You can specify the render_mode at initialization, e.g. gym(\"CliffWalking-v0\", render_mode=\"rgb_array\")\u001b[0m\n",
      "  logger.warn(\n"
     ]
    }
   ],
   "source": [
    "import gym\n",
    "env = gym.make(\"CliffWalking-v0\")\n",
    "env.reset()\n",
    "env.render()"
   ]
  },
  {
   "cell_type": "code",
   "execution_count": 50,
   "id": "cbc42c3c",
   "metadata": {},
   "outputs": [
    {
     "name": "stdout",
     "output_type": "stream",
     "text": [
      "Action Space Discrete(4)\n",
      "State Space Discrete(48)\n"
     ]
    }
   ],
   "source": [
    "env.reset()\n",
    "env.render()\n",
    "print(\"Action Space {}\".format(env.action_space))\n",
    "print(\"State Space {}\".format(env.observation_space))"
   ]
  },
  {
   "cell_type": "code",
   "execution_count": 51,
   "id": "7eb4bc5f",
   "metadata": {},
   "outputs": [
    {
     "name": "stdout",
     "output_type": "stream",
     "text": [
      "State: (24, -1, False, False, {'prob': 1.0})\n"
     ]
    }
   ],
   "source": [
    "state = env.step(0)\n",
    "print(\"State:\", state)\n",
    "\n",
    "env.s = state\n",
    "env.render()"
   ]
  },
  {
   "cell_type": "code",
   "execution_count": 52,
   "id": "6dd919eb",
   "metadata": {},
   "outputs": [
    {
     "name": "stdout",
     "output_type": "stream",
     "text": [
      "State: (12, -1, False, False, {'prob': 1.0})\n"
     ]
    }
   ],
   "source": [
    "state = env.step(0)\n",
    "print(\"State:\", state)\n",
    "\n",
    "env.s = state\n",
    "env.render()"
   ]
  },
  {
   "cell_type": "code",
   "execution_count": 53,
   "id": "17b86bf3",
   "metadata": {
    "scrolled": true
   },
   "outputs": [
    {
     "data": {
      "text/plain": [
       "{0: [(1.0, 12, -1, False)],\n",
       " 1: [(1.0, 25, -1, False)],\n",
       " 2: [(1.0, 36, -1, False)],\n",
       " 3: [(1.0, 24, -1, False)]}"
      ]
     },
     "execution_count": 53,
     "metadata": {},
     "output_type": "execute_result"
    }
   ],
   "source": [
    "env.P[24]"
   ]
  },
  {
   "cell_type": "code",
   "execution_count": 3,
   "id": "2775c836",
   "metadata": {},
   "outputs": [],
   "source": [
    "import numpy as np\n",
    "import gym"
   ]
  },
  {
   "cell_type": "code",
   "execution_count": 4,
   "id": "bfd20216",
   "metadata": {},
   "outputs": [],
   "source": [
    "#Building the environment\n",
    "env = gym.make('FrozenLake-v1')"
   ]
  },
  {
   "cell_type": "code",
   "execution_count": 5,
   "id": "e47a975e",
   "metadata": {},
   "outputs": [],
   "source": [
    "# Defining the different parameters\n",
    "epsilon = 0.9\n",
    "total_episodes = 10000\n",
    "max_steps = 100\n",
    "alpha = 0.85\n",
    "gamma = 0.95\n",
    "\n",
    "# Initializing the Q-matrix\n",
    "Q = np.zeros((env.observation_space.n, env.action_space.n))"
   ]
  },
  {
   "cell_type": "code",
   "execution_count": 6,
   "id": "3fa91a2e",
   "metadata": {},
   "outputs": [],
   "source": [
    "# Function to choose the next action\n",
    "def choose_action(state):\n",
    "    action = 0\n",
    "    if np.random.uniform(0, 1) < epsilon:\n",
    "        action = env.action_space.sample()\n",
    "    else:\n",
    "        action = np.argmax(Q[state, :])\n",
    "    return action\n",
    "\n",
    "# Function to learn the Q-value\n",
    "def update(state, state2, reward, action, action2):\n",
    "    predict = Q[state, action]\n",
    "    target = reward + gamma * Q[state2, action2]\n",
    "    Q[state, action] = Q[state, action] + alpha * (target - predict)"
   ]
  },
  {
   "cell_type": "code",
   "execution_count": 12,
   "id": "900ff292",
   "metadata": {},
   "outputs": [
    {
     "ename": "ValueError",
     "evalue": "too many values to unpack (expected 4)",
     "output_type": "error",
     "traceback": [
      "\u001b[1;31m---------------------------------------------------------------------------\u001b[0m",
      "\u001b[1;31mValueError\u001b[0m                                Traceback (most recent call last)",
      "Input \u001b[1;32mIn [12]\u001b[0m, in \u001b[0;36m<cell line: 5>\u001b[1;34m()\u001b[0m\n\u001b[0;32m     12\u001b[0m env\u001b[38;5;241m.\u001b[39mrender()\n\u001b[0;32m     14\u001b[0m \u001b[38;5;66;03m#Getting the next state\u001b[39;00m\n\u001b[1;32m---> 15\u001b[0m state2, reward, done, info \u001b[38;5;241m=\u001b[39m env\u001b[38;5;241m.\u001b[39mstep(action1)\n\u001b[0;32m     17\u001b[0m \u001b[38;5;66;03m#Choosing the next action\u001b[39;00m\n\u001b[0;32m     18\u001b[0m action2 \u001b[38;5;241m=\u001b[39m choose_action(state2)\n",
      "\u001b[1;31mValueError\u001b[0m: too many values to unpack (expected 4)"
     ]
    }
   ],
   "source": [
    "#Initializing the reward\n",
    "reward=0\n",
    "\n",
    "# Starting the SARSA learning\n",
    "for episode in range(total_episodes):\n",
    "    t = 0\n",
    "    state1 = env.reset()\n",
    "    action1 = choose_action(state1)\n",
    "    while t < max_steps:\n",
    "        \n",
    "        #Visualizing the training\n",
    "        env.render()\n",
    "\n",
    "        #Getting the next state\n",
    "        state2, reward, done, info = env.step(action1)\n",
    "        \n",
    "        #Choosing the next action\n",
    "        action2 = choose_action(state2)\n",
    "\n",
    "        #Learning the Q-value\n",
    "        update(state1, state2, reward, action1, action2)\n",
    "        \n",
    "        state1 = state2\n",
    "        action1 = action2\n",
    "\n",
    "        #Updating the respective vaLues\n",
    "        t += 1\n",
    "        reward += 1\n",
    "\n",
    "        #If at the end of learning process\n",
    "        if done:\n",
    "            break"
   ]
  },
  {
   "cell_type": "code",
   "execution_count": 13,
   "id": "de7d6bf4",
   "metadata": {},
   "outputs": [
    {
     "name": "stdout",
     "output_type": "stream",
     "text": [
      "Performance :  0.0\n",
      "[[0. 0. 0. 0.]\n",
      " [0. 0. 0. 0.]\n",
      " [0. 0. 0. 0.]\n",
      " [0. 0. 0. 0.]\n",
      " [0. 0. 0. 0.]\n",
      " [0. 0. 0. 0.]\n",
      " [0. 0. 0. 0.]\n",
      " [0. 0. 0. 0.]\n",
      " [0. 0. 0. 0.]\n",
      " [0. 0. 0. 0.]\n",
      " [0. 0. 0. 0.]\n",
      " [0. 0. 0. 0.]\n",
      " [0. 0. 0. 0.]\n",
      " [0. 0. 0. 0.]\n",
      " [0. 0. 0. 0.]\n",
      " [0. 0. 0. 0.]]\n"
     ]
    }
   ],
   "source": [
    "#Evaluating the performance\n",
    "print (\"Performance : \", reward/total_episodes)\n",
    "\n",
    "#Visualizing the Q-matrix\n",
    "print(Q)"
   ]
  },
  {
   "cell_type": "markdown",
   "id": "e65388f7",
   "metadata": {},
   "source": [
    "### Kesimpulan\n",
    "\n",
    "\n",
    "Reinforcement learning merupakan tipe algoritma pada machine learning yang memfokuskan pada suatu agent untuk mengambil tindakan dengan memaksimalkan reward pada situasi tertentu. Contohnya pada cliff-walking yang digunakan diatas.\n",
    "\n",
    "Cliff-Walking merupakan sebuah game yang dimana agent nya tidak boleh berjalan melewati cliff atau jurang yang mana rewardnya sebesar -100, ketika agent berjalan di area cliff mana agent akan dikenakan reward -100 serta mengulang dari titik awal di bagian paling kiri baris ke 3/[3,0]. Sedangkan, jika agent berjalan di jalan biasa, akan mendapatkan reward -1 sampai menuju goal yang berada di ujung kanan bawah yg berada pada kotak ke-11 di baris ke 3/[3,11], sedangkan jurangnya berada sebelah kanan titik awal sampai sebelah kiri goal / [3,1-10].\n",
    "\n",
    "Agent tersebut harus bisa berjalan tanpa melewati cliff. Hal ini didapati dengan agent belajar pada policy/reward tersebut, yg semakin lama agent akan tau area cliff dibagian mana sehingga mampu menghindari area cliff tersebut dan mampu menuju goal nya.\n"
   ]
  },
  {
   "cell_type": "code",
   "execution_count": 15,
   "id": "60b9b4ca",
   "metadata": {},
   "outputs": [
    {
     "name": "stdout",
     "output_type": "stream",
     "text": [
      "I certify that this is my own work.\n",
      "Signed by:\n",
      "Name: \tGempar Bambang Godata\n",
      "NIM: \t00000056133\n",
      "Time-stamp:\t2023-05-17 12:53:03.769895\n"
     ]
    }
   ],
   "source": [
    "# Footer\n",
    "myDate = datetime.datetime.now()\n",
    "print(\"I certify that this is my own work.\")\n",
    "print(\"Signed by:\")\n",
    "print(\"Name: \\t{}\".format(myName))\n",
    "print(\"NIM: \\t{}\".format(myNIM))\n",
    "print(\"Time-stamp:\\t{}\".format(myDate))"
   ]
  },
  {
   "cell_type": "markdown",
   "id": "115e24b4",
   "metadata": {},
   "source": [
    "***\n",
    "\n",
    "### Save the notebook, then convert the notebook to html (by running the next code)."
   ]
  },
  {
   "cell_type": "code",
   "execution_count": null,
   "id": "1e86341c",
   "metadata": {
    "scrolled": true
   },
   "outputs": [],
   "source": [
    "#!jupyter nbconvert --to html \"./IF540L_Kelas_A_laporan_M12_00000067643_Gempar Bambang Godata.ipynb\" --output-dir=\"./\""
   ]
  },
  {
   "cell_type": "markdown",
   "id": "e16a0495",
   "metadata": {},
   "source": [
    "### Next step:\n",
    "* convert the generated html file to PDF using the online tool: https://www.sejda.com/html-to-pdf\n",
    "* choose the following settings:\n",
    "    * Page size: One long page\n",
    "    * Page Orientation: auto\n",
    "    * Use print stylesheet\n",
    "* Submit your ipython notebook and PDF files\n",
    "\n",
    "Markdown basics https://markdown-guide.readthedocs.io/en/latest/basics.html#"
   ]
  },
  {
   "cell_type": "code",
   "execution_count": null,
   "id": "0b6add1a",
   "metadata": {},
   "outputs": [],
   "source": []
  }
 ],
 "metadata": {
  "kernelspec": {
   "display_name": "Python 3 (ipykernel)",
   "language": "python",
   "name": "python3"
  },
  "language_info": {
   "codemirror_mode": {
    "name": "ipython",
    "version": 3
   },
   "file_extension": ".py",
   "mimetype": "text/x-python",
   "name": "python",
   "nbconvert_exporter": "python",
   "pygments_lexer": "ipython3",
   "version": "3.9.12"
  }
 },
 "nbformat": 4,
 "nbformat_minor": 5
}
