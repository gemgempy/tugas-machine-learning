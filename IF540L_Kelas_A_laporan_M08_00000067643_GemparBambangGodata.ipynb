{
 "cells": [
  {
   "cell_type": "markdown",
   "id": "aea691db",
   "metadata": {},
   "source": [
    "## <div align=\"center\"> TUGAS LAB IF540 MACHINE LEARNING </div>\n",
    "### <div align=\"center\"> WEEK 08 : Pembelajaran Mendalam </div>\n",
    "\n",
    "#### <div align=\"center\"> Semester Genap 2022/2023 </div>"
   ]
  },
  {
   "cell_type": "code",
   "execution_count": 40,
   "id": "6704ffa6",
   "metadata": {},
   "outputs": [],
   "source": [
    "# Run this code when you restart the machine\n",
    "# Fill in with YOUR name and NIM\n",
    "import datetime\n",
    "import uuid\n",
    "\n",
    "myName = \"Gempar Bambang Godata\"\n",
    "myNIM = \"00000056133\""
   ]
  },
  {
   "cell_type": "code",
   "execution_count": 41,
   "id": "ad81e0ee",
   "metadata": {},
   "outputs": [
    {
     "name": "stdout",
     "output_type": "stream",
     "text": [
      "Name: \t\tGempar Bambang Godata\n",
      "NIM: \t\t00000056133\n",
      "Start: \t\t2023-04-17 16:27:14.810346\n",
      "Device ID: \t0a232b26-dd02-11ed-a940-acf234e5a95e\n"
     ]
    }
   ],
   "source": [
    "myDate = datetime.datetime.now()\n",
    "myDevice = str(uuid.uuid1())\n",
    "\n",
    "print(\"Name: \\t\\t{}\".format(myName))\n",
    "print(\"NIM: \\t\\t{}\".format(myNIM))\n",
    "print(\"Start: \\t\\t{}\".format(myDate))\n",
    "print(\"Device ID: \\t{}\".format(myDevice))"
   ]
  },
  {
   "cell_type": "markdown",
   "id": "6a1e433e",
   "metadata": {},
   "source": [
    "### Deskripsi Singkat Dataset:\n",
    "\n",
    "Data set ini ini mencakup 27305 baris dan 5 kolom berisi gambar wajah yang diberi label berdasarkan usia, jenis kelamin, dan etnis."
   ]
  },
  {
   "cell_type": "markdown",
   "id": "ce3f5e6e",
   "metadata": {},
   "source": [
    "\n",
    "---\n",
    "\n",
    "### Dataset yang dipakai:\n",
    "\n",
    "1. Age, Gender, and Ethnicity (Face Data) – sumber : https://www.kaggle.com/datasets/nipunarora8/age-gender-and-ethnicity-face-data-csv\n",
    "\n",
    "---\n",
    "\n",
    "### Hasil kerja"
   ]
  },
  {
   "cell_type": "markdown",
   "id": "045ceb51",
   "metadata": {},
   "source": [
    "# Test Environment"
   ]
  },
  {
   "cell_type": "markdown",
   "id": "aac83e9d",
   "metadata": {},
   "source": [
    "## Import Library"
   ]
  },
  {
   "cell_type": "code",
   "execution_count": 4,
   "id": "627ec7e3",
   "metadata": {},
   "outputs": [
    {
     "name": "stdout",
     "output_type": "stream",
     "text": [
      "Defaulting to user installation because normal site-packages is not writeable\n",
      "Collecting keras\n",
      "  Downloading keras-2.12.0-py2.py3-none-any.whl (1.7 MB)\n",
      "Installing collected packages: keras\n",
      "Successfully installed keras-2.12.0\n",
      "Note: you may need to restart the kernel to use updated packages.\n"
     ]
    }
   ],
   "source": [
    "pip install keras"
   ]
  },
  {
   "cell_type": "code",
   "execution_count": 1,
   "id": "2cd9a40a",
   "metadata": {},
   "outputs": [
    {
     "name": "stdout",
     "output_type": "stream",
     "text": [
      "\n",
      "Note: you may need to restart the kernel to use updated packages.\n"
     ]
    }
   ],
   "source": [
    "conda activate tensorflow"
   ]
  },
  {
   "cell_type": "code",
   "execution_count": 3,
   "id": "d8c4470e",
   "metadata": {},
   "outputs": [],
   "source": [
    "import sys\n",
    "import tensorflow.keras\n",
    "import pandas as pd\n",
    "import sklearn as sk\n",
    "import tensorflow as tf"
   ]
  },
  {
   "cell_type": "markdown",
   "id": "10c4b61b",
   "metadata": {},
   "source": [
    "### Import library lain"
   ]
  },
  {
   "cell_type": "code",
   "execution_count": 5,
   "id": "af6d52cb",
   "metadata": {},
   "outputs": [],
   "source": [
    "import numpy as np\n",
    "from sklearn.preprocessing import MinMaxScaler\n",
    "from sklearn.model_selection import train_test_split"
   ]
  },
  {
   "cell_type": "code",
   "execution_count": 4,
   "id": "5ab98098",
   "metadata": {},
   "outputs": [
    {
     "name": "stdout",
     "output_type": "stream",
     "text": [
      "Tensor Flow Version: 2.12.0\n",
      "Keras Version: 2.12.0\n",
      "\n",
      "Python 3.9.12 (main, Apr  4 2022, 05:22:27) [MSC v.1916 64 bit (AMD64)]\n",
      "Pandas 1.4.2\n",
      "Scikit-Learn 1.0.2\n"
     ]
    }
   ],
   "source": [
    "print(f\"Tensor Flow Version: {tf.__version__}\")\n",
    "print(f\"Keras Version: {tensorflow.keras.__version__}\")\n",
    "print()\n",
    "print(f\"Python {sys.version}\")\n",
    "print(f\"Pandas {pd.__version__}\")\n",
    "print(f\"Scikit-Learn {sk.__version__}\")"
   ]
  },
  {
   "cell_type": "markdown",
   "id": "d9c19370",
   "metadata": {},
   "source": [
    "### Modul"
   ]
  },
  {
   "cell_type": "code",
   "execution_count": 5,
   "id": "d1d18776",
   "metadata": {},
   "outputs": [
    {
     "name": "stdout",
     "output_type": "stream",
     "text": [
      "Downloading data from https://storage.googleapis.com/tensorflow/tf-keras-datasets/mnist.npz\n",
      "11490434/11490434 [==============================] - 17s 1us/step\n",
      "shape of x_train: (60000, 28, 28)\n",
      "shape of y_train: (60000,)\n",
      "\n",
      "shape of x_test: (10000, 28, 28)\n",
      "shape of y_test: (10000,)\n"
     ]
    }
   ],
   "source": [
    "import tensorflow.keras\n",
    "from tensorflow.keras.callbacks import EarlyStopping\n",
    "from tensorflow.keras.layers import Dense, Dropout\n",
    "from tensorflow.keras import regularizers\n",
    "from tensorflow.keras.datasets import mnist\n",
    "\n",
    "(x_train,y_train),(x_test,y_test)=mnist.load_data()\n",
    "\n",
    "print(\"shape of x_train: {}\".format(x_train.shape))\n",
    "print(\"shape of y_train: {}\".format(y_train.shape))\n",
    "print()\n",
    "print(\"shape of x_test: {}\".format(x_test.shape))\n",
    "print(\"shape of y_test: {}\".format(y_test.shape))"
   ]
  },
  {
   "cell_type": "code",
   "execution_count": 6,
   "id": "d4b27ad7",
   "metadata": {},
   "outputs": [
    {
     "name": "stdout",
     "output_type": "stream",
     "text": [
      "Shape for dataset: (60000, 28, 28)\n",
      "labels: [5 0 4 ... 5 6 8]\n",
      "shape for single: (28, 28)\n"
     ]
    },
    {
     "data": {
      "text/html": [
       "<div>\n",
       "<style scoped>\n",
       "    .dataframe tbody tr th:only-of-type {\n",
       "        vertical-align: middle;\n",
       "    }\n",
       "\n",
       "    .dataframe tbody tr th {\n",
       "        vertical-align: top;\n",
       "    }\n",
       "\n",
       "    .dataframe thead th {\n",
       "        text-align: right;\n",
       "    }\n",
       "</style>\n",
       "<table border=\"1\" class=\"dataframe\">\n",
       "  <thead>\n",
       "    <tr style=\"text-align: right;\">\n",
       "      <th></th>\n",
       "      <th>0</th>\n",
       "      <th>1</th>\n",
       "      <th>2</th>\n",
       "      <th>3</th>\n",
       "      <th>4</th>\n",
       "      <th>5</th>\n",
       "      <th>6</th>\n",
       "      <th>...</th>\n",
       "      <th>21</th>\n",
       "      <th>22</th>\n",
       "      <th>23</th>\n",
       "      <th>24</th>\n",
       "      <th>25</th>\n",
       "      <th>26</th>\n",
       "      <th>27</th>\n",
       "    </tr>\n",
       "  </thead>\n",
       "  <tbody>\n",
       "    <tr>\n",
       "      <th>0</th>\n",
       "      <td>0</td>\n",
       "      <td>0</td>\n",
       "      <td>0</td>\n",
       "      <td>0</td>\n",
       "      <td>0</td>\n",
       "      <td>0</td>\n",
       "      <td>0</td>\n",
       "      <td>...</td>\n",
       "      <td>0</td>\n",
       "      <td>0</td>\n",
       "      <td>0</td>\n",
       "      <td>0</td>\n",
       "      <td>0</td>\n",
       "      <td>0</td>\n",
       "      <td>0</td>\n",
       "    </tr>\n",
       "    <tr>\n",
       "      <th>1</th>\n",
       "      <td>0</td>\n",
       "      <td>0</td>\n",
       "      <td>0</td>\n",
       "      <td>0</td>\n",
       "      <td>0</td>\n",
       "      <td>0</td>\n",
       "      <td>0</td>\n",
       "      <td>...</td>\n",
       "      <td>0</td>\n",
       "      <td>0</td>\n",
       "      <td>0</td>\n",
       "      <td>0</td>\n",
       "      <td>0</td>\n",
       "      <td>0</td>\n",
       "      <td>0</td>\n",
       "    </tr>\n",
       "    <tr>\n",
       "      <th>...</th>\n",
       "      <td>...</td>\n",
       "      <td>...</td>\n",
       "      <td>...</td>\n",
       "      <td>...</td>\n",
       "      <td>...</td>\n",
       "      <td>...</td>\n",
       "      <td>...</td>\n",
       "      <td>...</td>\n",
       "      <td>...</td>\n",
       "      <td>...</td>\n",
       "      <td>...</td>\n",
       "      <td>...</td>\n",
       "      <td>...</td>\n",
       "      <td>...</td>\n",
       "      <td>...</td>\n",
       "    </tr>\n",
       "    <tr>\n",
       "      <th>26</th>\n",
       "      <td>0</td>\n",
       "      <td>0</td>\n",
       "      <td>0</td>\n",
       "      <td>0</td>\n",
       "      <td>0</td>\n",
       "      <td>0</td>\n",
       "      <td>0</td>\n",
       "      <td>...</td>\n",
       "      <td>0</td>\n",
       "      <td>0</td>\n",
       "      <td>0</td>\n",
       "      <td>0</td>\n",
       "      <td>0</td>\n",
       "      <td>0</td>\n",
       "      <td>0</td>\n",
       "    </tr>\n",
       "    <tr>\n",
       "      <th>27</th>\n",
       "      <td>0</td>\n",
       "      <td>0</td>\n",
       "      <td>0</td>\n",
       "      <td>0</td>\n",
       "      <td>0</td>\n",
       "      <td>0</td>\n",
       "      <td>0</td>\n",
       "      <td>...</td>\n",
       "      <td>0</td>\n",
       "      <td>0</td>\n",
       "      <td>0</td>\n",
       "      <td>0</td>\n",
       "      <td>0</td>\n",
       "      <td>0</td>\n",
       "      <td>0</td>\n",
       "    </tr>\n",
       "  </tbody>\n",
       "</table>\n",
       "<p>28 rows × 28 columns</p>\n",
       "</div>"
      ],
      "text/plain": [
       "    0   1   2   3   4   5   6   ...  21  22  23  24  25  26  27\n",
       "0    0   0   0   0   0   0   0  ...   0   0   0   0   0   0   0\n",
       "1    0   0   0   0   0   0   0  ...   0   0   0   0   0   0   0\n",
       "..  ..  ..  ..  ..  ..  ..  ..  ...  ..  ..  ..  ..  ..  ..  ..\n",
       "26   0   0   0   0   0   0   0  ...   0   0   0   0   0   0   0\n",
       "27   0   0   0   0   0   0   0  ...   0   0   0   0   0   0   0\n",
       "\n",
       "[28 rows x 28 columns]"
      ]
     },
     "execution_count": 6,
     "metadata": {},
     "output_type": "execute_result"
    }
   ],
   "source": [
    "from IPython.display import display\n",
    "import pandas as pd \n",
    "pd.set_option('display.max_columns',15)\n",
    "pd.set_option('display.max_rows',5)\n",
    "\n",
    "print('Shape for dataset: {}'.format(x_train.shape))\n",
    "print('labels: {}'.format(y_train))\n",
    "\n",
    "single=x_train[0]\n",
    "print('shape for single: {}'.format(single.shape))\n",
    "pd.DataFrame(single.reshape(28,28))"
   ]
  },
  {
   "cell_type": "code",
   "execution_count": 7,
   "id": "9130df5e",
   "metadata": {},
   "outputs": [
    {
     "name": "stdout",
     "output_type": "stream",
     "text": [
      "image (#105): which is digit '1'\n"
     ]
    },
    {
     "data": {
      "image/png": "[encoded data removed]",
      "text/plain": [
       "<Figure size 432x288 with 1 Axes>"
      ]
     },
     "metadata": {
      "needs_background": "light"
     },
     "output_type": "display_data"
    }
   ],
   "source": [
    "%matplotlib inline\n",
    "import matplotlib.pyplot as plt \n",
    "import numpy as np \n",
    "digit=105\n",
    "a=x_train[digit]\n",
    "plt.imshow(a,cmap='gray',interpolation='nearest')\n",
    "print(\"image (#{}): which is digit '{}'\".format(digit,y_train[digit]))"
   ]
  },
  {
   "cell_type": "code",
   "execution_count": 8,
   "id": "5c17a746",
   "metadata": {},
   "outputs": [
    {
     "data": {
      "text/plain": [
       "<Figure size 432x288 with 0 Axes>"
      ]
     },
     "metadata": {},
     "output_type": "display_data"
    },
    {
     "data": {
      "image/png": "[encoded data removed]",
      "text/plain": [
       "<Figure size 432x432 with 36 Axes>"
      ]
     },
     "metadata": {
      "needs_background": "light"
     },
     "output_type": "display_data"
    }
   ],
   "source": [
    "import random \n",
    "ROWS =6\n",
    "random_indices=random.sample(range(x_train.shape[0]), ROWS*ROWS)\n",
    "sample_images=x_train[random_indices,:]\n",
    "plt.clf()\n",
    "fig,axes=plt.subplots(ROWS,ROWS,\n",
    "                     figsize=(ROWS,ROWS),\n",
    "                     sharex=True, sharey=True)\n",
    "for i in range (ROWS*ROWS):\n",
    "    subplot_row=i//ROWS\n",
    "    subplot_col=i%ROWS\n",
    "    ax=axes[subplot_row,subplot_col]\n",
    "    \n",
    "    plottable_image=np.reshape(sample_images[i,:], (28,28))\n",
    "    ax.imshow(plottable_image,cmap='gray_r')\n",
    "    ax.set_xbound([0,28])\n",
    "plt.tight_layout()\n",
    "plt.show()"
   ]
  },
  {
   "cell_type": "code",
   "execution_count": 9,
   "id": "ae17d41a",
   "metadata": {},
   "outputs": [
    {
     "name": "stdout",
     "output_type": "stream",
     "text": [
      "x_train shape: (60000, 28, 28, 1)\n",
      "training samples: 60000\n",
      "test samples: 10000\n"
     ]
    }
   ],
   "source": [
    "import tensorflow.keras\n",
    "from tensorflow.keras.datasets import mnist \n",
    "from tensorflow.keras.models import Sequential\n",
    "from tensorflow.keras.layers import Dense, Dropout, Flatten\n",
    "from tensorflow.keras.layers import Conv2D, MaxPooling2D \n",
    "from tensorflow.keras import backend as K\n",
    "\n",
    "batch_size = 128\n",
    "num_classes = 10 \n",
    "epochs = 12\n",
    "\n",
    "img_rows, img_cols = 28,28\n",
    "if K.image_data_format() == 'channels_first':\n",
    "    x_train=x_train.reshape(x_train.shape[0], 1, img_rows, img_cols)\n",
    "    x_test=x_test.reshape(x_test.shape[0], 1, img_rows, img_cols)\n",
    "    input_shape=(1, img_rows, img_cols)\n",
    "else: \n",
    "    x_train=x_train.reshape(x_train.shape[0], img_rows, img_cols, 1)\n",
    "    x_test=x_test.reshape(x_test.shape[0], img_rows, img_cols, 1)\n",
    "    input_shape=(img_rows, img_cols, 1)\n",
    "x_train=x_train.astype('float32')\n",
    "x_test=x_test.astype('float32')\n",
    "\n",
    "x_train /= 255\n",
    "x_test /= 255\n",
    "\n",
    "print('x_train shape:', x_train.shape)\n",
    "print('training samples: {}'.format(x_train.shape[0]))\n",
    "print('test samples: {}'.format(x_test.shape[0]))"
   ]
  },
  {
   "cell_type": "code",
   "execution_count": 10,
   "id": "05f2cb87",
   "metadata": {},
   "outputs": [],
   "source": [
    "y_train=tensorflow.keras.utils.to_categorical(y_train, num_classes)\n",
    "y_test=tensorflow.keras.utils.to_categorical(y_test, num_classes)\n",
    "model=Sequential()\n",
    "model.add(Conv2D(32, kernel_size=(3,3),\n",
    "                activation='relu',\n",
    "                input_shape=input_shape))\n",
    "model.add(Conv2D(64,(3,3),activation='relu'))\n",
    "model.add(MaxPooling2D(pool_size=(2,2)))\n",
    "model.add(Dropout(0.25))\n",
    "model.add(Flatten())         \n",
    "model.add(Dense(128, activation='relu'))\n",
    "model.add(Dropout(0.25))\n",
    "model.add(Dense(num_classes, activation='softmax'))\n",
    "model.compile(loss='categorical_crossentropy', optimizer='adam',\n",
    "             metrics=['accuracy'])"
   ]
  },
  {
   "cell_type": "code",
   "execution_count": 11,
   "id": "26723962",
   "metadata": {},
   "outputs": [
    {
     "name": "stdout",
     "output_type": "stream",
     "text": [
      "Epoch 1/12\n",
      "469/469 - 51s - loss: 0.1873 - accuracy: 0.9428 - val_loss: 0.0511 - val_accuracy: 0.9833 - 51s/epoch - 109ms/step\n",
      "Epoch 2/12\n",
      "469/469 - 60s - loss: 0.0583 - accuracy: 0.9819 - val_loss: 0.0332 - val_accuracy: 0.9900 - 60s/epoch - 128ms/step\n",
      "Epoch 3/12\n",
      "469/469 - 92s - loss: 0.0395 - accuracy: 0.9871 - val_loss: 0.0323 - val_accuracy: 0.9896 - 92s/epoch - 195ms/step\n",
      "Epoch 4/12\n",
      "469/469 - 91s - loss: 0.0300 - accuracy: 0.9901 - val_loss: 0.0288 - val_accuracy: 0.9904 - 91s/epoch - 194ms/step\n",
      "Epoch 5/12\n",
      "469/469 - 94s - loss: 0.0238 - accuracy: 0.9925 - val_loss: 0.0276 - val_accuracy: 0.9920 - 94s/epoch - 199ms/step\n",
      "Epoch 6/12\n",
      "469/469 - 93s - loss: 0.0216 - accuracy: 0.9927 - val_loss: 0.0288 - val_accuracy: 0.9913 - 93s/epoch - 199ms/step\n",
      "Epoch 7/12\n",
      "469/469 - 93s - loss: 0.0182 - accuracy: 0.9937 - val_loss: 0.0374 - val_accuracy: 0.9890 - 93s/epoch - 199ms/step\n",
      "Epoch 8/12\n",
      "469/469 - 93s - loss: 0.0154 - accuracy: 0.9949 - val_loss: 0.0303 - val_accuracy: 0.9919 - 93s/epoch - 198ms/step\n",
      "Epoch 9/12\n",
      "469/469 - 89s - loss: 0.0138 - accuracy: 0.9954 - val_loss: 0.0350 - val_accuracy: 0.9909 - 89s/epoch - 189ms/step\n",
      "Epoch 10/12\n",
      "469/469 - 92s - loss: 0.0118 - accuracy: 0.9956 - val_loss: 0.0332 - val_accuracy: 0.9914 - 92s/epoch - 197ms/step\n",
      "Epoch 11/12\n",
      "469/469 - 92s - loss: 0.0131 - accuracy: 0.9953 - val_loss: 0.0320 - val_accuracy: 0.9918 - 92s/epoch - 196ms/step\n",
      "Epoch 12/12\n",
      "469/469 - 92s - loss: 0.0097 - accuracy: 0.9966 - val_loss: 0.0420 - val_accuracy: 0.9918 - 92s/epoch - 197ms/step\n",
      "test loss: 0.04201454296708107\n",
      "test accuracy: 0.9918000102043152\n"
     ]
    }
   ],
   "source": [
    "import tensorflow as tf\n",
    "import time \n",
    "start_time=time.time()\n",
    "model.fit(x_train,y_train,\n",
    "         batch_size=batch_size,\n",
    "         epochs=epochs,\n",
    "         verbose=2,\n",
    "         validation_data=(x_test,y_test))\n",
    "score=model.evaluate(x_test,y_test,verbose=0)\n",
    "print('test loss: {}'.format(score[0]))\n",
    "print('test accuracy: {}'.format(score[1]))"
   ]
  },
  {
   "cell_type": "code",
   "execution_count": 12,
   "id": "0b7e8419",
   "metadata": {},
   "outputs": [
    {
     "name": "stdout",
     "output_type": "stream",
     "text": [
      "test loss: 0.04201454296708107\n",
      "test accuracy: 0.9918000102043152\n"
     ]
    }
   ],
   "source": [
    "score=model.evaluate(x_test,y_test,verbose=0)\n",
    "print('test loss: {}'.format(score[0]))\n",
    "print('test accuracy: {}'.format(score[1]))"
   ]
  },
  {
   "cell_type": "code",
   "execution_count": 13,
   "id": "d5798615",
   "metadata": {},
   "outputs": [
    {
     "name": "stdout",
     "output_type": "stream",
     "text": [
      "4/4 [==============================] - 1s 15ms/step\n",
      "accuracy: 1.0\n"
     ]
    }
   ],
   "source": [
    "from sklearn import metrics\n",
    "\n",
    "small_x=x_test[1:100]\n",
    "small_y=y_test[1:100]\n",
    "small_y2=np.argmax(small_y,axis=1)\n",
    "pred=model.predict(small_x)\n",
    "pred=np.argmax(pred,axis=1)\n",
    "score=metrics.accuracy_score(small_y2,pred)\n",
    "print('accuracy: {}'.format(score))"
   ]
  },
  {
   "cell_type": "code",
   "execution_count": 14,
   "id": "d82481cc",
   "metadata": {},
   "outputs": [
    {
     "name": "stdout",
     "output_type": "stream",
     "text": [
      "Downloading data from https://storage.googleapis.com/tensorflow/tf-keras-datasets/train-labels-idx1-ubyte.gz\n",
      "29515/29515 [==============================] - 0s 2us/step\n",
      "Downloading data from https://storage.googleapis.com/tensorflow/tf-keras-datasets/train-images-idx3-ubyte.gz\n",
      "26421880/26421880 [==============================] - 9s 0us/step\n",
      "Downloading data from https://storage.googleapis.com/tensorflow/tf-keras-datasets/t10k-labels-idx1-ubyte.gz\n",
      "5148/5148 [==============================] - 0s 0s/step\n",
      "Downloading data from https://storage.googleapis.com/tensorflow/tf-keras-datasets/t10k-images-idx3-ubyte.gz\n",
      "4422102/4422102 [==============================] - 2s 1us/step\n",
      "shape of x_train: (60000, 28, 28)\n",
      "shape of y_train: (60000,)\n",
      "\n",
      "shape of x_test: (10000, 28, 28)\n",
      "shape of y_test: (10000,)\n"
     ]
    }
   ],
   "source": [
    "import tensorflow.keras\n",
    "from tensorflow.keras.callbacks import EarlyStopping\n",
    "from tensorflow.keras.layers import Dense, Dropout\n",
    "from tensorflow.keras import regularizers\n",
    "from tensorflow.keras.datasets import fashion_mnist\n",
    "\n",
    "(x_train,y_train),(x_test,y_test)=fashion_mnist.load_data()\n",
    "print(\"shape of x_train: {}\".format(x_train.shape))\n",
    "print(\"shape of y_train: {}\".format(y_train.shape))\n",
    "print()\n",
    "print(\"shape of x_test: {}\".format(x_test.shape))\n",
    "print(\"shape of y_test: {}\".format(y_test.shape))"
   ]
  },
  {
   "cell_type": "code",
   "execution_count": 15,
   "id": "cedf5920",
   "metadata": {},
   "outputs": [
    {
     "name": "stdout",
     "output_type": "stream",
     "text": [
      "Shape for dataset: (60000, 28, 28)\n",
      "labels: [9 0 0 ... 3 0 5]\n",
      "shape for single: (28, 28)\n"
     ]
    },
    {
     "data": {
      "text/html": [
       "<div>\n",
       "<style scoped>\n",
       "    .dataframe tbody tr th:only-of-type {\n",
       "        vertical-align: middle;\n",
       "    }\n",
       "\n",
       "    .dataframe tbody tr th {\n",
       "        vertical-align: top;\n",
       "    }\n",
       "\n",
       "    .dataframe thead th {\n",
       "        text-align: right;\n",
       "    }\n",
       "</style>\n",
       "<table border=\"1\" class=\"dataframe\">\n",
       "  <thead>\n",
       "    <tr style=\"text-align: right;\">\n",
       "      <th></th>\n",
       "      <th>0</th>\n",
       "      <th>1</th>\n",
       "      <th>2</th>\n",
       "      <th>3</th>\n",
       "      <th>4</th>\n",
       "      <th>5</th>\n",
       "      <th>6</th>\n",
       "      <th>...</th>\n",
       "      <th>21</th>\n",
       "      <th>22</th>\n",
       "      <th>23</th>\n",
       "      <th>24</th>\n",
       "      <th>25</th>\n",
       "      <th>26</th>\n",
       "      <th>27</th>\n",
       "    </tr>\n",
       "  </thead>\n",
       "  <tbody>\n",
       "    <tr>\n",
       "      <th>0</th>\n",
       "      <td>0</td>\n",
       "      <td>0</td>\n",
       "      <td>0</td>\n",
       "      <td>0</td>\n",
       "      <td>0</td>\n",
       "      <td>0</td>\n",
       "      <td>0</td>\n",
       "      <td>...</td>\n",
       "      <td>0</td>\n",
       "      <td>0</td>\n",
       "      <td>0</td>\n",
       "      <td>0</td>\n",
       "      <td>0</td>\n",
       "      <td>0</td>\n",
       "      <td>0</td>\n",
       "    </tr>\n",
       "    <tr>\n",
       "      <th>1</th>\n",
       "      <td>0</td>\n",
       "      <td>0</td>\n",
       "      <td>0</td>\n",
       "      <td>0</td>\n",
       "      <td>0</td>\n",
       "      <td>0</td>\n",
       "      <td>0</td>\n",
       "      <td>...</td>\n",
       "      <td>0</td>\n",
       "      <td>0</td>\n",
       "      <td>0</td>\n",
       "      <td>0</td>\n",
       "      <td>0</td>\n",
       "      <td>0</td>\n",
       "      <td>0</td>\n",
       "    </tr>\n",
       "    <tr>\n",
       "      <th>...</th>\n",
       "      <td>...</td>\n",
       "      <td>...</td>\n",
       "      <td>...</td>\n",
       "      <td>...</td>\n",
       "      <td>...</td>\n",
       "      <td>...</td>\n",
       "      <td>...</td>\n",
       "      <td>...</td>\n",
       "      <td>...</td>\n",
       "      <td>...</td>\n",
       "      <td>...</td>\n",
       "      <td>...</td>\n",
       "      <td>...</td>\n",
       "      <td>...</td>\n",
       "      <td>...</td>\n",
       "    </tr>\n",
       "    <tr>\n",
       "      <th>26</th>\n",
       "      <td>0</td>\n",
       "      <td>0</td>\n",
       "      <td>0</td>\n",
       "      <td>0</td>\n",
       "      <td>0</td>\n",
       "      <td>0</td>\n",
       "      <td>0</td>\n",
       "      <td>...</td>\n",
       "      <td>0</td>\n",
       "      <td>0</td>\n",
       "      <td>0</td>\n",
       "      <td>0</td>\n",
       "      <td>0</td>\n",
       "      <td>0</td>\n",
       "      <td>0</td>\n",
       "    </tr>\n",
       "    <tr>\n",
       "      <th>27</th>\n",
       "      <td>0</td>\n",
       "      <td>0</td>\n",
       "      <td>0</td>\n",
       "      <td>0</td>\n",
       "      <td>0</td>\n",
       "      <td>0</td>\n",
       "      <td>0</td>\n",
       "      <td>...</td>\n",
       "      <td>0</td>\n",
       "      <td>0</td>\n",
       "      <td>0</td>\n",
       "      <td>0</td>\n",
       "      <td>0</td>\n",
       "      <td>0</td>\n",
       "      <td>0</td>\n",
       "    </tr>\n",
       "  </tbody>\n",
       "</table>\n",
       "<p>28 rows × 28 columns</p>\n",
       "</div>"
      ],
      "text/plain": [
       "    0   1   2   3   4   5   6   ...  21  22  23  24  25  26  27\n",
       "0    0   0   0   0   0   0   0  ...   0   0   0   0   0   0   0\n",
       "1    0   0   0   0   0   0   0  ...   0   0   0   0   0   0   0\n",
       "..  ..  ..  ..  ..  ..  ..  ..  ...  ..  ..  ..  ..  ..  ..  ..\n",
       "26   0   0   0   0   0   0   0  ...   0   0   0   0   0   0   0\n",
       "27   0   0   0   0   0   0   0  ...   0   0   0   0   0   0   0\n",
       "\n",
       "[28 rows x 28 columns]"
      ]
     },
     "execution_count": 15,
     "metadata": {},
     "output_type": "execute_result"
    }
   ],
   "source": [
    "from IPython.display import display\n",
    "import pandas as pd \n",
    "\n",
    "print('Shape for dataset: {}'.format(x_train.shape))\n",
    "print('labels: {}'.format(y_train))\n",
    "\n",
    "single=x_train[0]\n",
    "print('shape for single: {}'.format(single.shape))\n",
    "\n",
    "pd.set_option('display.max_columns',15)\n",
    "pd.set_option('display.max_rows',5)\n",
    "pd.DataFrame(single.reshape(28,28))"
   ]
  },
  {
   "cell_type": "code",
   "execution_count": 16,
   "id": "7440ba1e",
   "metadata": {},
   "outputs": [
    {
     "name": "stdout",
     "output_type": "stream",
     "text": [
      "image (#90): which is digit '9'\n"
     ]
    },
    {
     "data": {
      "image/png": "[encoded data removed]",
      "text/plain": [
       "<Figure size 432x288 with 1 Axes>"
      ]
     },
     "metadata": {
      "needs_background": "light"
     },
     "output_type": "display_data"
    }
   ],
   "source": [
    "%matplotlib inline\n",
    "import matplotlib.pyplot as plt \n",
    "import numpy as np \n",
    "digit=90\n",
    "a=x_train[digit]\n",
    "plt.imshow(a,cmap='gray',interpolation='nearest')\n",
    "print(\"image (#{}): which is digit '{}'\".format(digit,y_train[digit]))"
   ]
  },
  {
   "cell_type": "code",
   "execution_count": 17,
   "id": "402d10a9",
   "metadata": {},
   "outputs": [
    {
     "data": {
      "text/plain": [
       "<Figure size 432x288 with 0 Axes>"
      ]
     },
     "metadata": {},
     "output_type": "display_data"
    },
    {
     "data": {
      "image/png": "[encoded data removed]",
      "text/plain": [
       "<Figure size 432x432 with 36 Axes>"
      ]
     },
     "metadata": {
      "needs_background": "light"
     },
     "output_type": "display_data"
    }
   ],
   "source": [
    "import random \n",
    "ROWS =6\n",
    "random_indices=random.sample(range(x_train.shape[0]), ROWS*ROWS)\n",
    "sample_images=x_train[random_indices,:]\n",
    "plt.clf()\n",
    "fig,axes=plt.subplots(ROWS,ROWS,\n",
    "                     figsize=(ROWS,ROWS),\n",
    "                     sharex=True, sharey=True)\n",
    "for i in range (ROWS*ROWS):\n",
    "    subplot_row=i//ROWS\n",
    "    subplot_col=i%ROWS\n",
    "    ax=axes[subplot_row,subplot_col]\n",
    "    \n",
    "    plottable_image=np.reshape(sample_images[i,:], (28,28))\n",
    "    ax.imshow(plottable_image,cmap='gray_r')\n",
    "    ax.set_xbound([0,28])\n",
    "plt.tight_layout()\n",
    "plt.show()"
   ]
  },
  {
   "cell_type": "code",
   "execution_count": 18,
   "id": "ebc3b581",
   "metadata": {},
   "outputs": [
    {
     "name": "stdout",
     "output_type": "stream",
     "text": [
      "x_train shape: (60000, 28, 28, 1)\n",
      "training samples: 60000\n",
      "test samples: 10000\n"
     ]
    }
   ],
   "source": [
    "import tensorflow.keras\n",
    "from tensorflow.keras.datasets import mnist \n",
    "from tensorflow.keras.models import Sequential\n",
    "from tensorflow.keras.layers import Dense, Dropout, Flatten\n",
    "from tensorflow.keras.layers import Conv2D, MaxPooling2D \n",
    "from tensorflow.keras import backend as K\n",
    "\n",
    "batch_size = 128\n",
    "num_classes = 10 \n",
    "epochs = 12\n",
    "\n",
    "img_rows, img_cols = 28,28\n",
    "if K.image_data_format() == 'channels_first':\n",
    "    x_train=x_train.reshape(x_train.shape[0], 1, img_rows, img_cols)\n",
    "    x_test=x_test.reshape(x_test.shape[0], 1, img_rows, img_cols)\n",
    "    input_shape=(1, img_rows, img_cols)\n",
    "else: \n",
    "    x_train=x_train.reshape(x_train.shape[0], img_rows, img_cols, 1)\n",
    "    x_test=x_test.reshape(x_test.shape[0], img_rows, img_cols, 1)\n",
    "    input_shape=(img_rows, img_cols, 1)\n",
    "x_train=x_train.astype('float32')\n",
    "x_test=x_test.astype('float32')\n",
    "\n",
    "x_train /= 255\n",
    "x_test /= 255\n",
    "\n",
    "print('x_train shape:', x_train.shape)\n",
    "print('training samples: {}'.format(x_train.shape[0]))\n",
    "print('test samples: {}'.format(x_test.shape[0]))"
   ]
  },
  {
   "cell_type": "code",
   "execution_count": 19,
   "id": "96219f58",
   "metadata": {},
   "outputs": [],
   "source": [
    "y_train=tensorflow.keras.utils.to_categorical(y_train, num_classes)\n",
    "y_test=tensorflow.keras.utils.to_categorical(y_test, num_classes)\n",
    "model=Sequential()\n",
    "model.add(Conv2D(32, kernel_size=(3,3),\n",
    "                activation='relu',\n",
    "                input_shape=input_shape))\n",
    "model.add(Conv2D(64,(3,3),activation='relu'))\n",
    "model.add(MaxPooling2D(pool_size=(2,2)))\n",
    "model.add(Dropout(0.25))\n",
    "model.add(Flatten())         \n",
    "model.add(Dense(128, activation='relu'))\n",
    "model.add(Dropout(0.25))\n",
    "model.add(Dense(num_classes, activation='softmax'))\n",
    "model.compile(loss='categorical_crossentropy', optimizer='adam',\n",
    "             metrics=['accuracy'])"
   ]
  },
  {
   "cell_type": "code",
   "execution_count": 20,
   "id": "aed51465",
   "metadata": {},
   "outputs": [
    {
     "name": "stdout",
     "output_type": "stream",
     "text": [
      "Epoch 1/12\n",
      "469/469 - 97s - loss: 0.4638 - accuracy: 0.8346 - val_loss: 0.3198 - val_accuracy: 0.8878 - 97s/epoch - 208ms/step\n",
      "Epoch 2/12\n",
      "469/469 - 95s - loss: 0.2919 - accuracy: 0.8950 - val_loss: 0.2690 - val_accuracy: 0.9035 - 95s/epoch - 202ms/step\n",
      "Epoch 3/12\n",
      "469/469 - 94s - loss: 0.2465 - accuracy: 0.9091 - val_loss: 0.2562 - val_accuracy: 0.9043 - 94s/epoch - 201ms/step\n",
      "Epoch 4/12\n",
      "469/469 - 94s - loss: 0.2145 - accuracy: 0.9207 - val_loss: 0.2481 - val_accuracy: 0.9099 - 94s/epoch - 200ms/step\n",
      "Epoch 5/12\n",
      "469/469 - 94s - loss: 0.1890 - accuracy: 0.9305 - val_loss: 0.2201 - val_accuracy: 0.9204 - 94s/epoch - 201ms/step\n",
      "Epoch 6/12\n",
      "469/469 - 93s - loss: 0.1661 - accuracy: 0.9378 - val_loss: 0.2162 - val_accuracy: 0.9231 - 93s/epoch - 199ms/step\n",
      "Epoch 7/12\n",
      "469/469 - 94s - loss: 0.1479 - accuracy: 0.9438 - val_loss: 0.2260 - val_accuracy: 0.9210 - 94s/epoch - 200ms/step\n",
      "Epoch 8/12\n",
      "469/469 - 92s - loss: 0.1318 - accuracy: 0.9506 - val_loss: 0.2141 - val_accuracy: 0.9253 - 92s/epoch - 196ms/step\n",
      "Epoch 9/12\n",
      "469/469 - 94s - loss: 0.1162 - accuracy: 0.9565 - val_loss: 0.2272 - val_accuracy: 0.9250 - 94s/epoch - 200ms/step\n",
      "Epoch 10/12\n",
      "469/469 - 93s - loss: 0.1055 - accuracy: 0.9603 - val_loss: 0.2215 - val_accuracy: 0.9267 - 93s/epoch - 199ms/step\n",
      "Epoch 11/12\n",
      "469/469 - 93s - loss: 0.0924 - accuracy: 0.9653 - val_loss: 0.2413 - val_accuracy: 0.9253 - 93s/epoch - 199ms/step\n",
      "Epoch 12/12\n",
      "469/469 - 93s - loss: 0.0839 - accuracy: 0.9684 - val_loss: 0.2355 - val_accuracy: 0.9274 - 93s/epoch - 199ms/step\n",
      "test loss: 0.23553834855556488\n",
      "test accuracy: 0.9273999929428101\n"
     ]
    }
   ],
   "source": [
    "import tensorflow as tf\n",
    "import time \n",
    "start_time=time.time()\n",
    "model.fit(x_train,y_train,\n",
    "         batch_size=batch_size,\n",
    "         epochs=epochs,\n",
    "         verbose=2,\n",
    "         validation_data=(x_test,y_test))\n",
    "score=model.evaluate(x_test,y_test,verbose=0)\n",
    "print('test loss: {}'.format(score[0]))\n",
    "print('test accuracy: {}'.format(score[1]))"
   ]
  },
  {
   "cell_type": "markdown",
   "id": "805f758a",
   "metadata": {},
   "source": [
    "# Import Dataset Pilihan"
   ]
  },
  {
   "cell_type": "code",
   "execution_count": 21,
   "id": "3ba00d26",
   "metadata": {},
   "outputs": [
    {
     "data": {
      "text/html": [
       "<div>\n",
       "<style scoped>\n",
       "    .dataframe tbody tr th:only-of-type {\n",
       "        vertical-align: middle;\n",
       "    }\n",
       "\n",
       "    .dataframe tbody tr th {\n",
       "        vertical-align: top;\n",
       "    }\n",
       "\n",
       "    .dataframe thead th {\n",
       "        text-align: right;\n",
       "    }\n",
       "</style>\n",
       "<table border=\"1\" class=\"dataframe\">\n",
       "  <thead>\n",
       "    <tr style=\"text-align: right;\">\n",
       "      <th></th>\n",
       "      <th>age</th>\n",
       "      <th>ethnicity</th>\n",
       "      <th>gender</th>\n",
       "      <th>img_name</th>\n",
       "      <th>pixels</th>\n",
       "    </tr>\n",
       "  </thead>\n",
       "  <tbody>\n",
       "    <tr>\n",
       "      <th>0</th>\n",
       "      <td>1</td>\n",
       "      <td>2</td>\n",
       "      <td>0</td>\n",
       "      <td>20161219203650636.jpg.chip.jpg</td>\n",
       "      <td>129 128 128 126 127 130 133 135 139 142 145 14...</td>\n",
       "    </tr>\n",
       "    <tr>\n",
       "      <th>1</th>\n",
       "      <td>1</td>\n",
       "      <td>2</td>\n",
       "      <td>0</td>\n",
       "      <td>20161219222752047.jpg.chip.jpg</td>\n",
       "      <td>164 74 111 168 169 171 175 182 184 188 193 199...</td>\n",
       "    </tr>\n",
       "    <tr>\n",
       "      <th>2</th>\n",
       "      <td>1</td>\n",
       "      <td>2</td>\n",
       "      <td>0</td>\n",
       "      <td>20161219222832191.jpg.chip.jpg</td>\n",
       "      <td>67 70 71 70 69 67 70 79 90 103 116 132 145 155...</td>\n",
       "    </tr>\n",
       "    <tr>\n",
       "      <th>3</th>\n",
       "      <td>1</td>\n",
       "      <td>2</td>\n",
       "      <td>0</td>\n",
       "      <td>20161220144911423.jpg.chip.jpg</td>\n",
       "      <td>193 197 198 200 199 200 202 203 204 205 208 21...</td>\n",
       "    </tr>\n",
       "    <tr>\n",
       "      <th>4</th>\n",
       "      <td>1</td>\n",
       "      <td>2</td>\n",
       "      <td>0</td>\n",
       "      <td>20161220144914327.jpg.chip.jpg</td>\n",
       "      <td>202 205 209 210 209 209 210 211 212 214 218 21...</td>\n",
       "    </tr>\n",
       "  </tbody>\n",
       "</table>\n",
       "</div>"
      ],
      "text/plain": [
       "   age  ethnicity  gender                        img_name  \\\n",
       "0    1          2       0  20161219203650636.jpg.chip.jpg   \n",
       "1    1          2       0  20161219222752047.jpg.chip.jpg   \n",
       "2    1          2       0  20161219222832191.jpg.chip.jpg   \n",
       "3    1          2       0  20161220144911423.jpg.chip.jpg   \n",
       "4    1          2       0  20161220144914327.jpg.chip.jpg   \n",
       "\n",
       "                                              pixels  \n",
       "0  129 128 128 126 127 130 133 135 139 142 145 14...  \n",
       "1  164 74 111 168 169 171 175 182 184 188 193 199...  \n",
       "2  67 70 71 70 69 67 70 79 90 103 116 132 145 155...  \n",
       "3  193 197 198 200 199 200 202 203 204 205 208 21...  \n",
       "4  202 205 209 210 209 209 210 211 212 214 218 21...  "
      ]
     },
     "execution_count": 21,
     "metadata": {},
     "output_type": "execute_result"
    }
   ],
   "source": [
    "df = pd.read_csv('age_gender.csv')\n",
    "\n",
    "df.head()"
   ]
  },
  {
   "cell_type": "markdown",
   "id": "f0609bd7",
   "metadata": {},
   "source": [
    "# Description"
   ]
  },
  {
   "cell_type": "code",
   "execution_count": 22,
   "id": "ffc71386",
   "metadata": {},
   "outputs": [
    {
     "name": "stdout",
     "output_type": "stream",
     "text": [
      "<class 'pandas.core.frame.DataFrame'>\n",
      "RangeIndex: 23705 entries, 0 to 23704\n",
      "Data columns (total 5 columns):\n",
      " #   Column     Non-Null Count  Dtype \n",
      "---  ------     --------------  ----- \n",
      " 0   age        23705 non-null  int64 \n",
      " 1   ethnicity  23705 non-null  int64 \n",
      " 2   gender     23705 non-null  int64 \n",
      " 3   img_name   23705 non-null  object\n",
      " 4   pixels     23705 non-null  object\n",
      "dtypes: int64(3), object(2)\n",
      "memory usage: 926.1+ KB\n"
     ]
    }
   ],
   "source": [
    "df.info()"
   ]
  },
  {
   "cell_type": "markdown",
   "id": "58ad2090",
   "metadata": {},
   "source": [
    "Berdasarkan info(), ditemukan:\n",
    "1. Terdapat 23705 baris dan 5 kolom. \n",
    "2. Terdapat 3 data numerik dan 2 data kategorikal. \n",
    "3. Tidak ada missing value.\n",
    "\n",
    "Kesimpulan:\n",
    "- Tidak perlu dilakukan handling missing value\n",
    "- Tidak perlu melakukan encoding\n",
    "- Hanya perlu me-reshape kolom pixels agar dapat digunakan untuk 48 x 48. Dalam kasus ini, dilakukan split untuk memecah 48 x 48 dari satu kolom menjadi 2304 kolom."
   ]
  },
  {
   "cell_type": "markdown",
   "id": "339e1e4d",
   "metadata": {},
   "source": [
    "## Menentukan kolom target dari age, ethnicity, dan gender"
   ]
  },
  {
   "cell_type": "code",
   "execution_count": 23,
   "id": "5437c9ba",
   "metadata": {},
   "outputs": [
    {
     "name": "stdout",
     "output_type": "stream",
     "text": [
      "[  1  10 100 101 103 105  11 110 111 115 116  12  13  14  15  16  17  18\n",
      "  19   2  20  21  22  23  24  25  26  27  28  29   3  30  31  32  33  34\n",
      "  35  36  37  38  39   4  40  41  42  43  44  45  46  47  48  49   5  50\n",
      "  51  52  53  54  55  56  57  58  59   6  60  61  62  63  64  65  66  67\n",
      "  68  69   7  70  71  72  73  74  75  76  77  78  79   8  80  81  82  83\n",
      "  84  85  86  87  88  89   9  90  91  92  93  95  96  99]\n",
      "[2 3 4 0 1]\n",
      "[0 1]\n"
     ]
    }
   ],
   "source": [
    "print (df['age'].unique())\n",
    "print (df['ethnicity'].unique())\n",
    "print (df['gender'].unique())"
   ]
  },
  {
   "cell_type": "markdown",
   "id": "3f9725a0",
   "metadata": {},
   "source": [
    "Diambil ethnicity untuk target. Dalam kasus ini, ethnicity diambil karena age punya terlalu banyak kelas untuk diprediksi (data kontinu), sementara gender hanya ada 2 kelas (biner)."
   ]
  },
  {
   "cell_type": "markdown",
   "id": "9f163d30",
   "metadata": {},
   "source": [
    "# Preprocessing"
   ]
  },
  {
   "cell_type": "markdown",
   "id": "8b26e54c",
   "metadata": {},
   "source": [
    "Sekarang, kita membuat X dan y. X akan memiliki 2304 kolom dan 23705 baris. Untuk sekarang, kita split, lalu dibuat DataFrame baru."
   ]
  },
  {
   "cell_type": "code",
   "execution_count": 24,
   "id": "cb05c5f3",
   "metadata": {
    "scrolled": true
   },
   "outputs": [
    {
     "data": {
      "text/plain": [
       "0    [129, 128, 128, 126, 127, 130, 133, 135, 139, ...\n",
       "1    [164, 74, 111, 168, 169, 171, 175, 182, 184, 1...\n",
       "2    [67, 70, 71, 70, 69, 67, 70, 79, 90, 103, 116,...\n",
       "3    [193, 197, 198, 200, 199, 200, 202, 203, 204, ...\n",
       "4    [202, 205, 209, 210, 209, 209, 210, 211, 212, ...\n",
       "Name: pixels, dtype: object"
      ]
     },
     "execution_count": 24,
     "metadata": {},
     "output_type": "execute_result"
    }
   ],
   "source": [
    "pixel_list = df['pixels'].str.split(' ')\n",
    "\n",
    "pixel_list[:5]"
   ]
  },
  {
   "cell_type": "code",
   "execution_count": 25,
   "id": "f835900c",
   "metadata": {},
   "outputs": [
    {
     "name": "stdout",
     "output_type": "stream",
     "text": [
      "(23705, 2304)\n"
     ]
    },
    {
     "data": {
      "text/html": [
       "<div>\n",
       "<style scoped>\n",
       "    .dataframe tbody tr th:only-of-type {\n",
       "        vertical-align: middle;\n",
       "    }\n",
       "\n",
       "    .dataframe tbody tr th {\n",
       "        vertical-align: top;\n",
       "    }\n",
       "\n",
       "    .dataframe thead th {\n",
       "        text-align: right;\n",
       "    }\n",
       "</style>\n",
       "<table border=\"1\" class=\"dataframe\">\n",
       "  <thead>\n",
       "    <tr style=\"text-align: right;\">\n",
       "      <th></th>\n",
       "      <th>0</th>\n",
       "      <th>1</th>\n",
       "      <th>2</th>\n",
       "      <th>3</th>\n",
       "      <th>4</th>\n",
       "      <th>5</th>\n",
       "      <th>6</th>\n",
       "      <th>...</th>\n",
       "      <th>2297</th>\n",
       "      <th>2298</th>\n",
       "      <th>2299</th>\n",
       "      <th>2300</th>\n",
       "      <th>2301</th>\n",
       "      <th>2302</th>\n",
       "      <th>2303</th>\n",
       "    </tr>\n",
       "  </thead>\n",
       "  <tbody>\n",
       "    <tr>\n",
       "      <th>0</th>\n",
       "      <td>129</td>\n",
       "      <td>128</td>\n",
       "      <td>128</td>\n",
       "      <td>126</td>\n",
       "      <td>127</td>\n",
       "      <td>130</td>\n",
       "      <td>133</td>\n",
       "      <td>...</td>\n",
       "      <td>138</td>\n",
       "      <td>142</td>\n",
       "      <td>144</td>\n",
       "      <td>144</td>\n",
       "      <td>146</td>\n",
       "      <td>146</td>\n",
       "      <td>146</td>\n",
       "    </tr>\n",
       "    <tr>\n",
       "      <th>1</th>\n",
       "      <td>164</td>\n",
       "      <td>74</td>\n",
       "      <td>111</td>\n",
       "      <td>168</td>\n",
       "      <td>169</td>\n",
       "      <td>171</td>\n",
       "      <td>175</td>\n",
       "      <td>...</td>\n",
       "      <td>241</td>\n",
       "      <td>236</td>\n",
       "      <td>232</td>\n",
       "      <td>204</td>\n",
       "      <td>182</td>\n",
       "      <td>170</td>\n",
       "      <td>148</td>\n",
       "    </tr>\n",
       "    <tr>\n",
       "      <th>2</th>\n",
       "      <td>67</td>\n",
       "      <td>70</td>\n",
       "      <td>71</td>\n",
       "      <td>70</td>\n",
       "      <td>69</td>\n",
       "      <td>67</td>\n",
       "      <td>70</td>\n",
       "      <td>...</td>\n",
       "      <td>116</td>\n",
       "      <td>117</td>\n",
       "      <td>117</td>\n",
       "      <td>115</td>\n",
       "      <td>112</td>\n",
       "      <td>111</td>\n",
       "      <td>108</td>\n",
       "    </tr>\n",
       "    <tr>\n",
       "      <th>3</th>\n",
       "      <td>193</td>\n",
       "      <td>197</td>\n",
       "      <td>198</td>\n",
       "      <td>200</td>\n",
       "      <td>199</td>\n",
       "      <td>200</td>\n",
       "      <td>202</td>\n",
       "      <td>...</td>\n",
       "      <td>228</td>\n",
       "      <td>228</td>\n",
       "      <td>230</td>\n",
       "      <td>231</td>\n",
       "      <td>235</td>\n",
       "      <td>239</td>\n",
       "      <td>246</td>\n",
       "    </tr>\n",
       "    <tr>\n",
       "      <th>4</th>\n",
       "      <td>202</td>\n",
       "      <td>205</td>\n",
       "      <td>209</td>\n",
       "      <td>210</td>\n",
       "      <td>209</td>\n",
       "      <td>209</td>\n",
       "      <td>210</td>\n",
       "      <td>...</td>\n",
       "      <td>167</td>\n",
       "      <td>168</td>\n",
       "      <td>171</td>\n",
       "      <td>171</td>\n",
       "      <td>167</td>\n",
       "      <td>163</td>\n",
       "      <td>161</td>\n",
       "    </tr>\n",
       "  </tbody>\n",
       "</table>\n",
       "<p>5 rows × 2304 columns</p>\n",
       "</div>"
      ],
      "text/plain": [
       "  0    1    2    3    4    5    6     ... 2297 2298 2299 2300 2301 2302 2303\n",
       "0  129  128  128  126  127  130  133  ...  138  142  144  144  146  146  146\n",
       "1  164   74  111  168  169  171  175  ...  241  236  232  204  182  170  148\n",
       "2   67   70   71   70   69   67   70  ...  116  117  117  115  112  111  108\n",
       "3  193  197  198  200  199  200  202  ...  228  228  230  231  235  239  246\n",
       "4  202  205  209  210  209  209  210  ...  167  168  171  171  167  163  161\n",
       "\n",
       "[5 rows x 2304 columns]"
      ]
     },
     "execution_count": 25,
     "metadata": {},
     "output_type": "execute_result"
    }
   ],
   "source": [
    "X = pd.DataFrame(pixel_list.tolist())\n",
    "\n",
    "print (X.shape)\n",
    "X.head()"
   ]
  },
  {
   "cell_type": "code",
   "execution_count": 26,
   "id": "78a6bc34",
   "metadata": {},
   "outputs": [
    {
     "data": {
      "text/plain": [
       "0    2\n",
       "1    2\n",
       "2    2\n",
       "3    2\n",
       "4    2\n",
       "Name: ethnicity, dtype: int64"
      ]
     },
     "execution_count": 26,
     "metadata": {},
     "output_type": "execute_result"
    }
   ],
   "source": [
    "y = df['ethnicity']\n",
    "\n",
    "y[:5]"
   ]
  },
  {
   "cell_type": "markdown",
   "id": "a0e5439a",
   "metadata": {},
   "source": [
    "Kita telah berhasil membuat X dan y."
   ]
  },
  {
   "cell_type": "markdown",
   "id": "650314d5",
   "metadata": {},
   "source": [
    "## Normalisasi"
   ]
  },
  {
   "cell_type": "markdown",
   "id": "a54051a3",
   "metadata": {},
   "source": [
    "Kita akan menormalisasi X sehingga range datanya hanya 0-1"
   ]
  },
  {
   "cell_type": "code",
   "execution_count": 27,
   "id": "187d9dac",
   "metadata": {},
   "outputs": [
    {
     "name": "stdout",
     "output_type": "stream",
     "text": [
      "<class 'pandas.core.frame.DataFrame'>\n",
      "RangeIndex: 23705 entries, 0 to 23704\n",
      "Columns: 2304 entries, 0 to 2303\n",
      "dtypes: object(2304)\n",
      "memory usage: 416.7+ MB\n"
     ]
    }
   ],
   "source": [
    "X.info()"
   ]
  },
  {
   "cell_type": "markdown",
   "id": "493a8544",
   "metadata": {},
   "source": [
    "Berdasarkan info(), dapat dilihat pada dtypes, bahwa semua kolom pixels bertipe data kategorikal. Dalam kasus ini, dilakukan astype untuk mengubah tipe data menjadi int sebelum dinormalisasikan."
   ]
  },
  {
   "cell_type": "code",
   "execution_count": 31,
   "id": "55449955",
   "metadata": {},
   "outputs": [
    {
     "name": "stdout",
     "output_type": "stream",
     "text": [
      "<class 'pandas.core.frame.DataFrame'>\n",
      "RangeIndex: 23705 entries, 0 to 23704\n",
      "Columns: 2304 entries, 0 to 2303\n",
      "dtypes: int64(2304)\n",
      "memory usage: 416.7 MB\n"
     ]
    }
   ],
   "source": [
    "X = X.astype('int64')\n",
    "\n",
    "X.info()"
   ]
  },
  {
   "cell_type": "code",
   "execution_count": 33,
   "id": "bcbacb24",
   "metadata": {},
   "outputs": [],
   "source": [
    "from sklearn.preprocessing import MinMaxScaler\n",
    "norm = MinMaxScaler()\n",
    "\n",
    "X_norm = norm.fit_transform(X)"
   ]
  },
  {
   "cell_type": "code",
   "execution_count": 34,
   "id": "e16bda18",
   "metadata": {},
   "outputs": [
    {
     "data": {
      "text/plain": [
       "array([[0.50588235, 0.50196078, 0.50196078, ..., 0.57254902, 0.57254902,\n",
       "        0.57254902],\n",
       "       [0.64313725, 0.29019608, 0.43529412, ..., 0.71372549, 0.66666667,\n",
       "        0.58039216],\n",
       "       [0.2627451 , 0.2745098 , 0.27843137, ..., 0.43921569, 0.43529412,\n",
       "        0.42352941],\n",
       "       [0.75686275, 0.77254902, 0.77647059, ..., 0.92156863, 0.9372549 ,\n",
       "        0.96470588],\n",
       "       [0.79215686, 0.80392157, 0.81960784, ..., 0.65490196, 0.63921569,\n",
       "        0.63137255]])"
      ]
     },
     "execution_count": 34,
     "metadata": {},
     "output_type": "execute_result"
    }
   ],
   "source": [
    "X_norm[:5]"
   ]
  },
  {
   "cell_type": "markdown",
   "id": "c5457d47",
   "metadata": {},
   "source": [
    "Kita telah berhasil menormalisasi X."
   ]
  },
  {
   "cell_type": "markdown",
   "id": "b020f20d",
   "metadata": {},
   "source": [
    "## Training-Testing"
   ]
  },
  {
   "cell_type": "code",
   "execution_count": 37,
   "id": "60d3d2df",
   "metadata": {},
   "outputs": [
    {
     "name": "stdout",
     "output_type": "stream",
     "text": [
      "(18964, 2304)\n",
      "(4741, 2304)\n"
     ]
    }
   ],
   "source": [
    "from sklearn.model_selection import train_test_split\n",
    "\n",
    "X_train, X_test, y_train, y_test = train_test_split(X,y, test_size=0.2, random_state=0)\n",
    "\n",
    "print (X_train.shape)\n",
    "print (X_test.shape)"
   ]
  },
  {
   "cell_type": "markdown",
   "id": "d8afcf31",
   "metadata": {},
   "source": [
    "Dibagi 80:20."
   ]
  },
  {
   "cell_type": "markdown",
   "id": "97393d35",
   "metadata": {},
   "source": [
    "# CNN"
   ]
  },
  {
   "cell_type": "code",
   "execution_count": 17,
   "id": "2503802a",
   "metadata": {},
   "outputs": [],
   "source": [
    "from tensorflow.keras.models import Sequential\n",
    "from tensorflow.keras.layers import Dense, Dropout, Flatten\n",
    "from tensorflow.keras.layers import Conv2D, MaxPooling2D\n",
    "from tensorflow.keras import backend as K"
   ]
  },
  {
   "cell_type": "code",
   "execution_count": 18,
   "id": "89c518f2",
   "metadata": {},
   "outputs": [],
   "source": [
    "num_classes = 5"
   ]
  },
  {
   "cell_type": "markdown",
   "id": "c1e076d4",
   "metadata": {},
   "source": [
    "Parameter 1 dengan relu"
   ]
  },
  {
   "cell_type": "code",
   "execution_count": 19,
   "id": "a671f985",
   "metadata": {},
   "outputs": [],
   "source": [
    "batch_size1 = 32\n",
    "epochs1 = 12"
   ]
  },
  {
   "cell_type": "markdown",
   "id": "78173581",
   "metadata": {},
   "source": [
    "Parameter 2 dengan sigmoid"
   ]
  },
  {
   "cell_type": "code",
   "execution_count": 20,
   "id": "b5beab7c",
   "metadata": {},
   "outputs": [],
   "source": [
    "batch_size2 = 128\n",
    "epochs2 = 24"
   ]
  },
  {
   "cell_type": "code",
   "execution_count": 21,
   "id": "4f939369",
   "metadata": {},
   "outputs": [
    {
     "name": "stdout",
     "output_type": "stream",
     "text": [
      "(18964, 48, 48, 1)\n",
      "(4741, 48, 48, 1)\n"
     ]
    }
   ],
   "source": [
    "X_train = np.array(X_train)\n",
    "X_test = np.array(X_test)\n",
    "\n",
    "X_train = X_train.reshape(X_train.shape[0], 48, 48, 1)\n",
    "X_test = X_test.reshape(X_test.shape[0], 48, 48, 1)\n",
    "    \n",
    "\n",
    "print (X_train.shape)\n",
    "print (X_test.shape)"
   ]
  },
  {
   "cell_type": "markdown",
   "id": "62ca610b",
   "metadata": {},
   "source": [
    "Dilakukan reshape agar dapat digunakan di model, di mana input_shapenya adalah 48 x 48 dengan 1 channel, yaitu black and white."
   ]
  },
  {
   "cell_type": "code",
   "execution_count": 22,
   "id": "c3fef0df",
   "metadata": {},
   "outputs": [
    {
     "name": "stdout",
     "output_type": "stream",
     "text": [
      "[[1. 0. 0. 0. 0.]\n",
      " [1. 0. 0. 0. 0.]\n",
      " [1. 0. 0. 0. 0.]\n",
      " [0. 1. 0. 0. 0.]\n",
      " [0. 0. 1. 0. 0.]]\n"
     ]
    }
   ],
   "source": [
    "y_train = tensorflow.keras.utils.to_categorical(y_train, num_classes)\n",
    "y_test = tensorflow.keras.utils.to_categorical(y_test, num_classes)\n",
    "\n",
    "print (y_train[:5])"
   ]
  },
  {
   "cell_type": "markdown",
   "id": "02feed7f",
   "metadata": {},
   "source": [
    "Diubah jadi binary, sehingga hasilnya seperti dilakukan one-hot encoding"
   ]
  },
  {
   "cell_type": "markdown",
   "id": "26cbc016",
   "metadata": {},
   "source": [
    "## Membuat model untuk relu"
   ]
  },
  {
   "cell_type": "code",
   "execution_count": 23,
   "id": "05253440",
   "metadata": {},
   "outputs": [],
   "source": [
    "model = Sequential()\n",
    "\n",
    "model.add(Conv2D(32, kernel_size=(3,3),\n",
    "                 activation='relu',\n",
    "                 input_shape=(48, 48, 1)))\n",
    "model.add(Conv2D(64, (3,3),\n",
    "                 activation='relu'))\n",
    "model.add(MaxPooling2D(pool_size=(2,2)))\n",
    "model.add(Dropout(0.25))\n",
    "model.add(Flatten())\n",
    "model.add(Dense(128, activation='relu'))\n",
    "model.add(Dropout(0.5))\n",
    "model.add(Dense(num_classes, activation='softmax'))\n",
    "model.compile(loss='categorical_crossentropy', optimizer='adam', metrics=['accuracy'])"
   ]
  },
  {
   "cell_type": "markdown",
   "id": "cf0bbbbc",
   "metadata": {},
   "source": [
    "Dibuat model dengan activationnya relu."
   ]
  },
  {
   "cell_type": "markdown",
   "id": "f2e3b597",
   "metadata": {},
   "source": [
    "## Model Training"
   ]
  },
  {
   "cell_type": "code",
   "execution_count": 24,
   "id": "8d62ad73",
   "metadata": {},
   "outputs": [
    {
     "name": "stdout",
     "output_type": "stream",
     "text": [
      "Epoch 1/12\n",
      "593/593 - 142s - loss: 2.2862 - accuracy: 0.5641 - val_loss: 0.8675 - val_accuracy: 0.6982 - 142s/epoch - 240ms/step\n",
      "Epoch 2/12\n",
      "593/593 - 151s - loss: 0.9415 - accuracy: 0.6675 - val_loss: 0.8137 - val_accuracy: 0.7161 - 151s/epoch - 254ms/step\n",
      "Epoch 3/12\n",
      "593/593 - 154s - loss: 0.8501 - accuracy: 0.6992 - val_loss: 0.7795 - val_accuracy: 0.7264 - 154s/epoch - 260ms/step\n",
      "Epoch 4/12\n",
      "593/593 - 154s - loss: 0.7785 - accuracy: 0.7219 - val_loss: 0.7476 - val_accuracy: 0.7355 - 154s/epoch - 260ms/step\n",
      "Epoch 5/12\n",
      "593/593 - 154s - loss: 0.7415 - accuracy: 0.7366 - val_loss: 0.7381 - val_accuracy: 0.7439 - 154s/epoch - 259ms/step\n",
      "Epoch 6/12\n",
      "593/593 - 156s - loss: 0.6703 - accuracy: 0.7615 - val_loss: 0.8058 - val_accuracy: 0.7336 - 156s/epoch - 262ms/step\n",
      "Epoch 7/12\n",
      "593/593 - 155s - loss: 0.6405 - accuracy: 0.7718 - val_loss: 0.7538 - val_accuracy: 0.7486 - 155s/epoch - 261ms/step\n",
      "Epoch 8/12\n",
      "593/593 - 157s - loss: 0.5975 - accuracy: 0.7855 - val_loss: 0.7255 - val_accuracy: 0.7587 - 157s/epoch - 264ms/step\n",
      "Epoch 9/12\n",
      "593/593 - 154s - loss: 0.5811 - accuracy: 0.7907 - val_loss: 0.7842 - val_accuracy: 0.7439 - 154s/epoch - 260ms/step\n",
      "Epoch 10/12\n",
      "593/593 - 153s - loss: 0.5489 - accuracy: 0.8005 - val_loss: 0.8196 - val_accuracy: 0.7454 - 153s/epoch - 258ms/step\n",
      "Epoch 11/12\n",
      "593/593 - 153s - loss: 0.5160 - accuracy: 0.8123 - val_loss: 0.7805 - val_accuracy: 0.7515 - 153s/epoch - 258ms/step\n",
      "Epoch 12/12\n",
      "593/593 - 152s - loss: 0.4978 - accuracy: 0.8198 - val_loss: 0.8716 - val_accuracy: 0.7595 - 152s/epoch - 256ms/step\n"
     ]
    }
   ],
   "source": [
    "import time\n",
    "\n",
    "start_time = time.time()\n",
    "\n",
    "model.fit(X_train,y_train,\n",
    "          batch_size=batch_size1,\n",
    "          epochs=epochs1,\n",
    "          verbose=2,\n",
    "          validation_data=(X_test, y_test))\n",
    "score = model.evaluate(X_test,y_test, verbose=0)\n",
    "\n",
    "elapsed_time = time.time() - start_time"
   ]
  },
  {
   "cell_type": "markdown",
   "id": "3652ceb8",
   "metadata": {},
   "source": [
    "Prosesnya memakan waktu, namun dapat dilihat terdapat 12 epochs."
   ]
  },
  {
   "cell_type": "markdown",
   "id": "49e984f2",
   "metadata": {},
   "source": [
    "## Evaluation"
   ]
  },
  {
   "cell_type": "code",
   "execution_count": 33,
   "id": "3d715d17",
   "metadata": {},
   "outputs": [
    {
     "name": "stdout",
     "output_type": "stream",
     "text": [
      "Test loss: 0.8716346621513367\n",
      "Test accuracy: 0.7595443725585938\n",
      "Elapsed time: 1842 seconds\n"
     ]
    }
   ],
   "source": [
    "print ('Test loss: {}'.format(score[0]))\n",
    "print ('Test accuracy: {}'.format(score[1]))\n",
    "\n",
    "print('Elapsed time: {:.0f} seconds'.format(elapsed_time))"
   ]
  },
  {
   "cell_type": "markdown",
   "id": "0575ebee",
   "metadata": {},
   "source": [
    "Lossnya sebesar 87%, dan akurasinya 76%. Selain itu, waktu yang dibutuhkan adalah 1842 detik atau 30 menit."
   ]
  },
  {
   "cell_type": "markdown",
   "id": "092b42f4",
   "metadata": {},
   "source": [
    "## Model 2 untuk sigmoid"
   ]
  },
  {
   "cell_type": "code",
   "execution_count": 34,
   "id": "30648e18",
   "metadata": {},
   "outputs": [],
   "source": [
    "model = Sequential()\n",
    "\n",
    "model.add(Conv2D(32, kernel_size=(3,3),\n",
    "                 activation='sigmoid',\n",
    "                 input_shape=(48, 48, 1)))\n",
    "model.add(Conv2D(64, (3,3),\n",
    "                 activation='sigmoid'))\n",
    "model.add(MaxPooling2D(pool_size=(2,2)))\n",
    "model.add(Dropout(0.25))\n",
    "model.add(Flatten())\n",
    "model.add(Dense(128, activation='sigmoid'))\n",
    "model.add(Dropout(0.5))\n",
    "model.add(Dense(num_classes, activation='softmax'))\n",
    "model.compile(loss='categorical_crossentropy', optimizer='adam', metrics=['accuracy'])"
   ]
  },
  {
   "cell_type": "markdown",
   "id": "9ceff220",
   "metadata": {},
   "source": [
    "Sementara itu, di sini activationnya sigmoid."
   ]
  },
  {
   "cell_type": "markdown",
   "id": "a830e826",
   "metadata": {},
   "source": [
    "## Model Training"
   ]
  },
  {
   "cell_type": "code",
   "execution_count": 35,
   "id": "2bb5394b",
   "metadata": {},
   "outputs": [
    {
     "name": "stdout",
     "output_type": "stream",
     "text": [
      "Epoch 1/24\n",
      "149/149 - 132s - loss: 1.8118 - accuracy: 0.3648 - val_loss: 1.4503 - val_accuracy: 0.4265 - 132s/epoch - 888ms/step\n",
      "Epoch 2/24\n",
      "149/149 - 137s - loss: 1.5348 - accuracy: 0.3822 - val_loss: 1.4500 - val_accuracy: 0.4265 - 137s/epoch - 921ms/step\n",
      "Epoch 3/24\n",
      "149/149 - 139s - loss: 1.4914 - accuracy: 0.4126 - val_loss: 1.4496 - val_accuracy: 0.4265 - 139s/epoch - 931ms/step\n",
      "Epoch 4/24\n",
      "149/149 - 140s - loss: 1.4705 - accuracy: 0.4238 - val_loss: 1.4498 - val_accuracy: 0.4265 - 140s/epoch - 942ms/step\n",
      "Epoch 5/24\n",
      "149/149 - 139s - loss: 1.4581 - accuracy: 0.4249 - val_loss: 1.4500 - val_accuracy: 0.4265 - 139s/epoch - 932ms/step\n",
      "Epoch 6/24\n",
      "149/149 - 140s - loss: 1.4561 - accuracy: 0.4248 - val_loss: 1.4513 - val_accuracy: 0.4265 - 140s/epoch - 943ms/step\n",
      "Epoch 7/24\n",
      "149/149 - 139s - loss: 1.4553 - accuracy: 0.4248 - val_loss: 1.4559 - val_accuracy: 0.4265 - 139s/epoch - 933ms/step\n",
      "Epoch 8/24\n",
      "149/149 - 139s - loss: 1.4530 - accuracy: 0.4248 - val_loss: 1.4503 - val_accuracy: 0.4265 - 139s/epoch - 936ms/step\n",
      "Epoch 9/24\n",
      "149/149 - 138s - loss: 1.4535 - accuracy: 0.4248 - val_loss: 1.4499 - val_accuracy: 0.4265 - 138s/epoch - 925ms/step\n",
      "Epoch 10/24\n",
      "149/149 - 140s - loss: 1.4520 - accuracy: 0.4248 - val_loss: 1.4495 - val_accuracy: 0.4265 - 140s/epoch - 939ms/step\n",
      "Epoch 11/24\n",
      "149/149 - 139s - loss: 1.4519 - accuracy: 0.4248 - val_loss: 1.4507 - val_accuracy: 0.4265 - 139s/epoch - 931ms/step\n",
      "Epoch 12/24\n",
      "149/149 - 139s - loss: 1.4534 - accuracy: 0.4248 - val_loss: 1.4517 - val_accuracy: 0.4265 - 139s/epoch - 936ms/step\n",
      "Epoch 13/24\n",
      "149/149 - 140s - loss: 1.4538 - accuracy: 0.4248 - val_loss: 1.4512 - val_accuracy: 0.4265 - 140s/epoch - 937ms/step\n",
      "Epoch 14/24\n",
      "149/149 - 139s - loss: 1.4528 - accuracy: 0.4248 - val_loss: 1.4503 - val_accuracy: 0.4265 - 139s/epoch - 935ms/step\n",
      "Epoch 15/24\n",
      "149/149 - 141s - loss: 1.4523 - accuracy: 0.4248 - val_loss: 1.4516 - val_accuracy: 0.4265 - 141s/epoch - 944ms/step\n",
      "Epoch 16/24\n",
      "149/149 - 139s - loss: 1.4521 - accuracy: 0.4248 - val_loss: 1.4501 - val_accuracy: 0.4265 - 139s/epoch - 935ms/step\n",
      "Epoch 17/24\n",
      "149/149 - 138s - loss: 1.4514 - accuracy: 0.4248 - val_loss: 1.4511 - val_accuracy: 0.4265 - 138s/epoch - 927ms/step\n",
      "Epoch 18/24\n",
      "149/149 - 140s - loss: 1.4507 - accuracy: 0.4248 - val_loss: 1.4525 - val_accuracy: 0.4265 - 140s/epoch - 940ms/step\n",
      "Epoch 19/24\n",
      "149/149 - 140s - loss: 1.4506 - accuracy: 0.4248 - val_loss: 1.4503 - val_accuracy: 0.4265 - 140s/epoch - 937ms/step\n",
      "Epoch 20/24\n",
      "149/149 - 138s - loss: 1.4513 - accuracy: 0.4248 - val_loss: 1.4506 - val_accuracy: 0.4265 - 138s/epoch - 929ms/step\n",
      "Epoch 21/24\n",
      "149/149 - 136s - loss: 1.4514 - accuracy: 0.4248 - val_loss: 1.4495 - val_accuracy: 0.4265 - 136s/epoch - 910ms/step\n",
      "Epoch 22/24\n",
      "149/149 - 138s - loss: 1.4520 - accuracy: 0.4248 - val_loss: 1.4509 - val_accuracy: 0.4265 - 138s/epoch - 929ms/step\n",
      "Epoch 23/24\n",
      "149/149 - 139s - loss: 1.4520 - accuracy: 0.4248 - val_loss: 1.4514 - val_accuracy: 0.4265 - 139s/epoch - 931ms/step\n",
      "Epoch 24/24\n",
      "149/149 - 138s - loss: 1.4521 - accuracy: 0.4248 - val_loss: 1.4511 - val_accuracy: 0.4265 - 138s/epoch - 929ms/step\n"
     ]
    }
   ],
   "source": [
    "import time\n",
    "\n",
    "start_time = time.time()\n",
    "\n",
    "model.fit(X_train,y_train,\n",
    "          batch_size=batch_size2,\n",
    "          epochs=epochs2,\n",
    "          verbose=2,\n",
    "          validation_data=(X_test, y_test))\n",
    "score = model.evaluate(X_test,y_test, verbose=0)\n",
    "\n",
    "elapsed_time = time.time() - start_time"
   ]
  },
  {
   "cell_type": "markdown",
   "id": "aa9a9307",
   "metadata": {},
   "source": [
    "Prosesnya lebih lama, karena epochnya 24."
   ]
  },
  {
   "cell_type": "markdown",
   "id": "d9b5dcb2",
   "metadata": {},
   "source": [
    "## Evaluation"
   ]
  },
  {
   "cell_type": "code",
   "execution_count": 36,
   "id": "aede956b",
   "metadata": {},
   "outputs": [
    {
     "name": "stdout",
     "output_type": "stream",
     "text": [
      "Test loss: 1.4511436223983765\n",
      "Test accuracy: 0.426492303609848\n",
      "Elapsed time: 3338 seconds\n"
     ]
    }
   ],
   "source": [
    "print ('Test loss: {}'.format(score[0]))\n",
    "print ('Test accuracy: {}'.format(score[1]))\n",
    "\n",
    "print('Elapsed time: {:.0f} seconds'.format(elapsed_time))"
   ]
  },
  {
   "cell_type": "markdown",
   "id": "d6b8c05b",
   "metadata": {},
   "source": [
    "Lossnya jauh lebih besar, yaitu 145%. Tak hanya itu, akurasinya sangat rendah, yaitu 42%. Terakhir, waktu yang dibutuhkan adalah 3338 detik atau 55 menit."
   ]
  },
  {
   "cell_type": "markdown",
   "id": "d5bd7668",
   "metadata": {},
   "source": [
    "Dapat disimpulkan bahwa hasilnya sangat buruk di percobaan kedua dengan sigmoid. Namun, terdapat kemungkinan bahwa pembuatan modelnya yang tidak cocok untuk sigmoid."
   ]
  },
  {
   "cell_type": "markdown",
   "id": "e65388f7",
   "metadata": {},
   "source": [
    "---\n",
    "\n",
    "### Kesimpulan\n",
    "\n",
    "\n",
    "Simpulan yang dilakukan dari hasil kerja menggunakan algoritma dan 2 dataset yang dipilih: \n",
    "\n",
    "Dalam percobaan ini, dilakukan pengujian model Convolutional Neural Network (CNN) dengan mengombinasikan parameter batch size, epoch, dan jenis aktivasi. Pada percobaan sigmoid pertama, nilai parameter batch size, epoch, dan jenis aktivasi adalah batch size 32, epoch 12, dan jenis aktivasi ReLu, sedangkan pada percobaan kedua nilai parameter adalah batch size 128, epoch 24, dan jenis aktivasi Sigmoid. Sigmoid pertama memiliki akurasi yang lebih baik dibandingkan sigmoid dengan loss lebih besar (1.4 dan 0.4).\n",
    "\n",
    "Pada epoch yang lebih rendah dan batch size yang lebih rendah, hasilnya lebih cepat, namun saat epoch dan batch size jauh lebih besar, hasilnya lebih lama."
   ]
  },
  {
   "cell_type": "code",
   "execution_count": 42,
   "id": "60b9b4ca",
   "metadata": {},
   "outputs": [
    {
     "name": "stdout",
     "output_type": "stream",
     "text": [
      "I certify that this is my own work.\n",
      "Signed by:\n",
      "Name: \t\tGempar Bambang Godata\n",
      "NIM: \t\t00000056133\n",
      "Time-stamp:\t2023-04-17 16:27:19.259079\n"
     ]
    }
   ],
   "source": [
    "# Footer\n",
    "myDate = datetime.datetime.now()\n",
    "print(\"I certify that this is my own work.\")\n",
    "print(\"Signed by:\")\n",
    "print(\"Name: \\t\\t{}\".format(myName))\n",
    "print(\"NIM: \\t\\t{}\".format(myNIM))\n",
    "print(\"Time-stamp:\\t{}\".format(myDate))"
   ]
  },
  {
   "cell_type": "markdown",
   "id": "115e24b4",
   "metadata": {},
   "source": [
    "***\n",
    "\n",
    "### Save the notebook, then convert the notebook to html (by running the next code)."
   ]
  },
  {
   "cell_type": "code",
   "execution_count": 44,
   "id": "1e86341c",
   "metadata": {},
   "outputs": [
    {
     "name": "stderr",
     "output_type": "stream",
     "text": [
      "[NbConvertApp] Converting notebook ./IF540L_Kelas_A_laporan_M08_00000067643_GemparBambangGodata.ipynb to html\n",
      "[NbConvertApp] Writing 952413 bytes to IF540L_Kelas_A_laporan_M08_00000067643_GemparBambangGodata.html\n"
     ]
    }
   ],
   "source": [
    "!jupyter nbconvert --to html \"./IF540L_Kelas_A_laporan_M08_00000067643_GemparBambangGodata.ipynb\" --output-dir=\"./\""
   ]
  }
 ],
 "metadata": {
  "kernelspec": {
   "display_name": "Python 3 (ipykernel)",
   "language": "python",
   "name": "python3"
  },
  "language_info": {
   "codemirror_mode": {
    "name": "ipython",
    "version": 3
   },
   "file_extension": ".py",
   "mimetype": "text/x-python",
   "name": "python",
   "nbconvert_exporter": "python",
   "pygments_lexer": "ipython3",
   "version": "3.9.12"
  }
 },
 "nbformat": 4,
 "nbformat_minor": 5
}
